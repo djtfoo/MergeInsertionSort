{
 "cells": [
  {
   "cell_type": "markdown",
   "metadata": {},
   "source": [
    "# CZ2001 Algorithms Example Class 3\n",
    "3B: Integration of Mergesort and Insertion Sort\n",
    "\n",
    "<b>Notebook 2: Data Collection - CPU times and No. Key Comparisons of Original Mergesort vs Modified Mergesort</b>"
   ]
  },
  {
   "cell_type": "markdown",
   "metadata": {},
   "source": [
    "## Import MergeSort & Modified Mergesort codes\n",
    "\n",
    "Methods in Mergesort:\n",
    "- <b>run(arr)</b>: Run the mergesort on the given array, and prints the sorted array, the execution time and no. key comparisons made.\n",
    "- <b>run_time(arr)</b>: Run the mergesort on the given array, and returns the execution time. (Units: )\n",
    "- <b>run_keycomp(arr)</b>: Run the mergesort on the given array, and returns the no. key comparisons made."
   ]
  },
  {
   "cell_type": "code",
   "execution_count": 3,
   "metadata": {},
   "outputs": [],
   "source": [
    "exec(open(\"mergesort.py\").read())"
   ]
  },
  {
   "cell_type": "markdown",
   "metadata": {},
   "source": [
    "## Import Helper Methods to Create Arrays\n",
    "4 methods to create arrays:\n",
    "- <b>populate_array_input()</b>: Gets user input for each element in the array.\n",
    "- <b>populate_array_random(arr_length)</b>: Creates an array of n random integers.\n",
    "- <b>populate_array_decreasing(arr_length)</b>: Creates an array of n integers sorted in decreasing order.\n",
    "- <b>populate_array_worst(arr_length)</b>: Creates an array of n integers which provides the worst case of mergesort."
   ]
  },
  {
   "cell_type": "code",
   "execution_count": 5,
   "metadata": {},
   "outputs": [],
   "source": [
    "exec(open(\"populatearray.py\").read())"
   ]
  },
  {
   "cell_type": "markdown",
   "metadata": {},
   "source": [
    "## Get runtimes & key comps of Original and Modified Mergesorts"
   ]
  },
  {
   "cell_type": "markdown",
   "metadata": {},
   "source": [
    "Based off analysis of S values in ModifiedMergeSort, optimal S value is . Hence, we will be comparing the performance of both Original and Modified MergeSorts with this fixed value of S.\n"
   ]
  },
  {
   "cell_type": "code",
   "execution_count": null,
   "metadata": {},
   "outputs": [],
   "source": [
    "#Runtimes\n",
    "\n",
    "def get_original_runtime(arr_length):\n",
    "    # generate a random array of size n\n",
    "    arr = populate_array_random(arr_length)\n",
    "    ms = MergeSort()\n",
    "    #get average of 100 runs\n",
    "    total_runtime = 0\n",
    "    for j in range(100):\n",
    "        total_runtime += ms.run_time()\n",
    "    average_runtime_100 = total_runtime/100\n",
    "    return average_runtime_100\n",
    "\n",
    "def get_modified_runtime(arr_length):\n",
    "    # generate a random array of size n\n",
    "    arr = populate_array_random(arr_length)\n",
    "    mms = ModifiedMergeSort(6)\n",
    "    #get average of 100 runs\n",
    "    total_runtime = 0\n",
    "    for j in range(100):\n",
    "        total_runtime += mms.run_time(arr)\n",
    "    average_runtime_100 = total_runtime/100\n",
    "    return average_runtime_100\n",
    "\n",
    "#Key Comparisons\n",
    "\n",
    "def get_modified_keycomp(arr_length):\n",
    "    # generate a random array of size n\n",
    "    arr = populate_array_random(arr_length)\n",
    "    ms = MergeSort()\n",
    "    keycomp = ms.run_keycomp(arr)\n",
    "    return keycomp\n",
    "\n",
    "def get_modified_keycomp(arr_length):\n",
    "    # generate a random array of size n\n",
    "    arr = populate_array_random(arr_length)\n",
    "    mms = ModifiedMergeSort(6)\n",
    "    keycomp = mms.run_keycomp(arr)\n",
    "    return keycomp\n",
    "\n",
    "#S = 6, varying n\n",
    "\n",
    "##runtimes\n",
    "for n in range(whatrangeyallwant):\n",
    "    original_runtime = get_original_runtime(n)\n",
    "    modified_runtime = get_modified_runtime(n)\n",
    "\n",
    "df = pd.DataFrame({\"N\": range(whatrangeyallwant), \"Original MergeSort Runtime\": original_runtime, \"Modified MergeSort Runtime\": modified_runtime})\n",
    "print(df,\"\\n\")\n",
    "\n",
    "\n",
    "##key comps\n",
    "for n in range(whatrangeyallwant):\n",
    "    original_keycomp = get_original_keycomp(n)\n",
    "    modified_keycomp = get_modified_keycomp(n)\n",
    "\n",
    "df = pd.DataFrame({\"N\": range(whatrangeyallwant), \"Original MergeSort KeyComp\": original_keycomp, \"Modified MergeSort KeyComp\": modified_keycomp})\n",
    "print(df,\"\\n\")"
   ]
  },
  {
   "cell_type": "markdown",
   "metadata": {},
   "source": [
    "## Plot"
   ]
  },
  {
   "cell_type": "code",
   "execution_count": null,
   "metadata": {},
   "outputs": [],
   "source": []
  }
 ],
 "metadata": {
  "kernelspec": {
   "display_name": "Python 3",
   "language": "python",
   "name": "python3"
  },
  "language_info": {
   "codemirror_mode": {
    "name": "ipython",
    "version": 3
   },
   "file_extension": ".py",
   "mimetype": "text/x-python",
   "name": "python",
   "nbconvert_exporter": "python",
   "pygments_lexer": "ipython3",
   "version": "3.7.1"
  }
 },
 "nbformat": 4,
 "nbformat_minor": 2
}
