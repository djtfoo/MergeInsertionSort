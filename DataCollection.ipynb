{
 "cells": [
  {
   "cell_type": "markdown",
   "metadata": {},
   "source": [
    "# CZ2001 Algorithms Example Class 3\n",
    "3B: Integration of Mergesort and Insertion Sort\n",
    "\n",
    "<b>Notebook 2: Data Collection - CPU times and No. Key Comparisons of Original Mergesort vs Modified Mergesort</b>"
   ]
  },
  {
   "cell_type": "markdown",
   "metadata": {},
   "source": [
    "## Import MergeSort & Modified Mergesort codes\n",
    "\n",
    "Methods in Mergesort:\n",
    "- <b>run(arr)</b>: Run the mergesort on the given array, and prints the sorted array, the execution time and no. key comparisons made.\n",
    "- <b>run_time(arr)</b>: Run the mergesort on the given array, and returns the execution time. (Units: )\n",
    "- <b>run_keycomp(arr)</b>: Run the mergesort on the given array, and returns the no. key comparisons made."
   ]
  },
  {
   "cell_type": "code",
   "execution_count": 3,
   "metadata": {},
   "outputs": [],
   "source": [
    "exec(open(\"mergesort.py\").read())"
   ]
  },
  {
   "cell_type": "markdown",
   "metadata": {},
   "source": [
    "## Import Helper Methods to Create Arrays\n",
    "4 methods to create arrays:\n",
    "- <b>populate_array_input()</b>: Gets user input for each element in the array.\n",
    "- <b>populate_array_random(arr_length)</b>: Creates an array of n random integers.\n",
    "- <b>populate_array_decreasing(arr_length)</b>: Creates an array of n integers sorted in decreasing order.\n",
    "- <b>populate_array_worst(arr_length)</b>: Creates an array of n integers which provides the worst case of mergesort."
   ]
  },
  {
   "cell_type": "code",
   "execution_count": 5,
   "metadata": {},
   "outputs": [],
   "source": [
    "exec(open(\"populatearray.py\").read())"
   ]
  },
  {
   "cell_type": "markdown",
   "metadata": {},
   "source": [
    "## Get runtimes & key comps of Original and Modified Mergesorts"
   ]
  },
  {
   "cell_type": "code",
   "execution_count": 6,
   "metadata": {},
   "outputs": [],
   "source": [
    "# do ur thing pern"
   ]
  },
  {
   "cell_type": "markdown",
   "metadata": {},
   "source": [
    "## Plot"
   ]
  },
  {
   "cell_type": "code",
   "execution_count": null,
   "metadata": {},
   "outputs": [],
   "source": []
  }
 ],
 "metadata": {
  "kernelspec": {
   "display_name": "Python 3",
   "language": "python",
   "name": "python3"
  },
  "language_info": {
   "codemirror_mode": {
    "name": "ipython",
    "version": 3
   },
   "file_extension": ".py",
   "mimetype": "text/x-python",
   "name": "python",
   "nbconvert_exporter": "python",
   "pygments_lexer": "ipython3",
   "version": "3.7.3"
  }
 },
 "nbformat": 4,
 "nbformat_minor": 2
}
