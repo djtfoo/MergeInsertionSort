{
 "cells": [
  {
   "cell_type": "markdown",
   "metadata": {},
   "source": [
    "# CZ2001 Algorithms Example Class 3\n",
    "3B: Integration of Mergesort and Insertion Sort\n",
    "\n",
    "<b>Notebook 2: Data Collection - CPU times and No. Key Comparisons of Original Mergesort vs Modified Mergesort</b>"
   ]
  },
  {
   "cell_type": "markdown",
   "metadata": {},
   "source": [
    "## Import MergeSort & Modified Mergesort codes\n",
    "\n",
    "Methods in Mergesort:\n",
    "- <b>run(arr)</b>: Run the mergesort on the given array, and prints the sorted array, the execution time and no. key comparisons made.\n",
    "- <b>run_time(arr)</b>: Run the mergesort on the given array, and returns the execution time. (Units: )\n",
    "- <b>run_keycomp(arr)</b>: Run the mergesort on the given array, and returns the no. key comparisons made."
   ]
  },
  {
   "cell_type": "code",
   "execution_count": 1,
   "metadata": {},
   "outputs": [],
   "source": [
    "exec(open(\"mergesort.py\").read())"
   ]
  },
  {
   "cell_type": "markdown",
   "metadata": {},
   "source": [
    "## Import Helper Methods to Create Arrays\n",
    "4 methods to create arrays:\n",
    "- <b>populate_array_input()</b>: Gets user input for each element in the array.\n",
    "- <b>populate_array_random(arr_length)</b>: Creates an array of n random integers.\n",
    "- <b>populate_array_decreasing(arr_length)</b>: Creates an array of n integers sorted in decreasing order.\n",
    "- <b>populate_array_worst(arr_length)</b>: Creates an array of n integers which provides the worst case of mergesort."
   ]
  },
  {
   "cell_type": "code",
   "execution_count": 2,
   "metadata": {},
   "outputs": [],
   "source": [
    "exec(open(\"populatearray.py\").read())"
   ]
  },
  {
   "cell_type": "markdown",
   "metadata": {},
   "source": [
    "## Get runtimes & key comps of Original and Modified Mergesorts"
   ]
  },
  {
   "cell_type": "markdown",
   "metadata": {},
   "source": [
    "Based off analysis of S values in ModifiedMergeSort, optimal S value is 16. Hence, we will be comparing the performance of both Original and Modified MergeSorts with this fixed value of S.\n"
   ]
  },
  {
   "cell_type": "code",
   "execution_count": 3,
   "metadata": {},
   "outputs": [],
   "source": [
    "import pandas as pd\n",
    "\n",
    "#Runtimes\n",
    "\n",
    "def get_original_runtime(arr):\n",
    "    ms = MergeSort()\n",
    "    #get average of 10 runs\n",
    "#     total_runtime = 0\n",
    "#     for j in range(10):\n",
    "#         total_runtime += ms.run_time(arr)\n",
    "#     average_runtime_10 = total_runtime/10\n",
    "#     return average_runtime_10\n",
    "    runtime = ms.run_time(arr)\n",
    "    return runtime\n",
    "\n",
    "def get_modified_runtime(arr):\n",
    "    mms = ModifiedMergeSort(16)\n",
    "    #get average of 10 runs\n",
    "#     total_runtime = 0\n",
    "#     for j in range(10):\n",
    "#         total_runtime += mms.run_time(arr)\n",
    "#     average_runtime_10 = total_runtime/10\n",
    "#     return average_runtime_10\n",
    "    runtime = mms.run_time(arr)\n",
    "    return runtime\n",
    "\n",
    "#Key Comparisons\n",
    "\n",
    "def get_original_keycomp(arr):\n",
    "    ms = MergeSort()\n",
    "    keycomp = ms.run_keycomp(arr)\n",
    "    return keycomp\n",
    "\n",
    "def get_modified_keycomp(arr):\n",
    "    mms = ModifiedMergeSort(16)\n",
    "    keycomp = mms.run_keycomp(arr)\n",
    "    return keycomp\n",
    "\n",
    "array_sizes = [1000, 2000, 3000, 5000, 10000, 20000, 50000, 75000, 100000, 250000, 500000, 1000000]"
   ]
  },
  {
   "cell_type": "code",
   "execution_count": 4,
   "metadata": {},
   "outputs": [
    {
     "name": "stdout",
     "output_type": "stream",
     "text": [
      "1000\n",
      "2000\n",
      "3000\n",
      "5000\n",
      "10000\n"
     ]
    },
    {
     "ename": "KeyboardInterrupt",
     "evalue": "",
     "output_type": "error",
     "traceback": [
      "\u001b[1;31m---------------------------------------------------------------------------\u001b[0m",
      "\u001b[1;31mKeyboardInterrupt\u001b[0m                         Traceback (most recent call last)",
      "\u001b[1;32m<ipython-input-4-534e53208a36>\u001b[0m in \u001b[0;36m<module>\u001b[1;34m\u001b[0m\n\u001b[0;32m      7\u001b[0m     \u001b[1;31m# generate a random array of size n\u001b[0m\u001b[1;33m\u001b[0m\u001b[1;33m\u001b[0m\u001b[1;33m\u001b[0m\u001b[0m\n\u001b[0;32m      8\u001b[0m     \u001b[0marr\u001b[0m \u001b[1;33m=\u001b[0m \u001b[0mpopulate_array_random\u001b[0m\u001b[1;33m(\u001b[0m\u001b[0mn\u001b[0m\u001b[1;33m)\u001b[0m\u001b[1;33m\u001b[0m\u001b[1;33m\u001b[0m\u001b[0m\n\u001b[1;32m----> 9\u001b[1;33m     \u001b[0moriginal_runtime\u001b[0m \u001b[1;33m=\u001b[0m \u001b[0mget_original_runtime\u001b[0m\u001b[1;33m(\u001b[0m\u001b[0marr\u001b[0m\u001b[1;33m)\u001b[0m\u001b[1;33m\u001b[0m\u001b[1;33m\u001b[0m\u001b[0m\n\u001b[0m\u001b[0;32m     10\u001b[0m     \u001b[0mmodified_runtime\u001b[0m \u001b[1;33m=\u001b[0m \u001b[0mget_modified_runtime\u001b[0m\u001b[1;33m(\u001b[0m\u001b[0marr\u001b[0m\u001b[1;33m)\u001b[0m\u001b[1;33m\u001b[0m\u001b[1;33m\u001b[0m\u001b[0m\n\u001b[0;32m     11\u001b[0m     \u001b[0morig_runtime_arr\u001b[0m\u001b[1;33m.\u001b[0m\u001b[0mappend\u001b[0m\u001b[1;33m(\u001b[0m\u001b[0moriginal_runtime\u001b[0m\u001b[1;33m)\u001b[0m\u001b[1;33m\u001b[0m\u001b[1;33m\u001b[0m\u001b[0m\n",
      "\u001b[1;32m<ipython-input-3-1065f15644ec>\u001b[0m in \u001b[0;36mget_original_runtime\u001b[1;34m(arr)\u001b[0m\n\u001b[0;32m      8\u001b[0m     \u001b[0mtotal_runtime\u001b[0m \u001b[1;33m=\u001b[0m \u001b[1;36m0\u001b[0m\u001b[1;33m\u001b[0m\u001b[1;33m\u001b[0m\u001b[0m\n\u001b[0;32m      9\u001b[0m     \u001b[1;32mfor\u001b[0m \u001b[0mj\u001b[0m \u001b[1;32min\u001b[0m \u001b[0mrange\u001b[0m\u001b[1;33m(\u001b[0m\u001b[1;36m10\u001b[0m\u001b[1;33m)\u001b[0m\u001b[1;33m:\u001b[0m\u001b[1;33m\u001b[0m\u001b[1;33m\u001b[0m\u001b[0m\n\u001b[1;32m---> 10\u001b[1;33m         \u001b[0mtotal_runtime\u001b[0m \u001b[1;33m+=\u001b[0m \u001b[0mms\u001b[0m\u001b[1;33m.\u001b[0m\u001b[0mrun_time\u001b[0m\u001b[1;33m(\u001b[0m\u001b[0marr\u001b[0m\u001b[1;33m)\u001b[0m\u001b[1;33m\u001b[0m\u001b[1;33m\u001b[0m\u001b[0m\n\u001b[0m\u001b[0;32m     11\u001b[0m     \u001b[0maverage_runtime_10\u001b[0m \u001b[1;33m=\u001b[0m \u001b[0mtotal_runtime\u001b[0m\u001b[1;33m/\u001b[0m\u001b[1;36m10\u001b[0m\u001b[1;33m\u001b[0m\u001b[1;33m\u001b[0m\u001b[0m\n\u001b[0;32m     12\u001b[0m     \u001b[1;32mreturn\u001b[0m \u001b[0maverage_runtime_10\u001b[0m\u001b[1;33m\u001b[0m\u001b[1;33m\u001b[0m\u001b[0m\n",
      "\u001b[1;32m<string>\u001b[0m in \u001b[0;36mrun_time\u001b[1;34m(self, arr)\u001b[0m\n",
      "\u001b[1;32m<string>\u001b[0m in \u001b[0;36mmerge_sort\u001b[1;34m(self, arr, first, last)\u001b[0m\n",
      "\u001b[1;32m<string>\u001b[0m in \u001b[0;36mmerge_sort\u001b[1;34m(self, arr, first, last)\u001b[0m\n",
      "\u001b[1;32m<string>\u001b[0m in \u001b[0;36mmerge_sort\u001b[1;34m(self, arr, first, last)\u001b[0m\n",
      "\u001b[1;32m<string>\u001b[0m in \u001b[0;36mmerge\u001b[1;34m(self, arr, first, mid, last)\u001b[0m\n",
      "\u001b[1;31mKeyboardInterrupt\u001b[0m: "
     ]
    }
   ],
   "source": [
    "#S = 16, varying n\n",
    "\n",
    "##runtimes\n",
    "orig_runtime_arr = []\n",
    "modified_runtime_arr = []\n",
    "for n in array_sizes:\n",
    "    # generate a random array of size n\n",
    "    arr = populate_array_random(n)\n",
    "    original_runtime = get_original_runtime(arr)\n",
    "    modified_runtime = get_modified_runtime(arr)\n",
    "    orig_runtime_arr.append(original_runtime)\n",
    "    modified_runtime_arr.append(modified_runtime)\n",
    "    del arr\n",
    "    print(n)\n",
    "df1 = pd.DataFrame({\"N\": array_sizes, \"Original MergeSort Runtime\": orig_runtime_arr, \"Modified MergeSort Runtime\": modified_runtime_arr})\n",
    "\n",
    "#export to a csv file (specify file path)\n",
    "export_csv = df2.to_csv ('./Data/Runtime_Data.csv', index = None, header=True)\n",
    "\n"
   ]
  },
  {
   "cell_type": "code",
   "execution_count": 4,
   "metadata": {},
   "outputs": [
    {
     "name": "stdout",
     "output_type": "stream",
     "text": [
      "1000\n",
      "2000\n",
      "3000\n",
      "5000\n",
      "10000\n",
      "20000\n",
      "50000\n",
      "75000\n",
      "100000\n",
      "250000\n",
      "500000\n",
      "1000000\n"
     ]
    }
   ],
   "source": [
    "\n",
    "##key comps\n",
    "orig_keycomp_arr = []\n",
    "modified_keycomp_arr = []\n",
    "for n in array_sizes:\n",
    "    # generate a random array of size n\n",
    "    arr = populate_array_random(n)\n",
    "    original_keycomp = get_original_keycomp(arr)\n",
    "    modified_keycomp = get_modified_keycomp(arr)\n",
    "    orig_keycomp_arr.append(original_keycomp)\n",
    "    modified_keycomp_arr.append(modified_keycomp)\n",
    "    del arr\n",
    "    print(n)\n",
    "df2 = pd.DataFrame({\"N\": array_sizes, \"Original MergeSort KeyComp\": orig_keycomp_arr, \"Modified MergeSort KeyComp\": modified_keycomp_arr})\n",
    "\n",
    "#export to a csv file \n",
    "export_csv = df2.to_csv ('./Data/Key_Comp_Data.csv', index = None, header=True)\n"
   ]
  },
  {
   "cell_type": "markdown",
   "metadata": {},
   "source": [
    "## Plot"
   ]
  },
  {
   "cell_type": "code",
   "execution_count": 12,
   "metadata": {},
   "outputs": [
    {
     "data": {
      "image/png": "[encoded data removed]",
      "text/plain": [
       "<Figure size 432x288 with 1 Axes>"
      ]
     },
     "metadata": {
      "needs_background": "light"
     },
     "output_type": "display_data"
    }
   ],
   "source": [
    "#plot original in blue and modified in red in increasing S for n\n",
    "import matplotlib.pyplot as plt\n",
    "df1 = pd.read_csv(\"./Data/Runtime_Data.csv\") \n",
    "df2 = pd.read_csv(\"./Data/Key_Comp_Data.csv\") \n",
    "\n",
    "\n",
    "##runtimes\n",
    "plt.plot(df1[\"N\"], df1[\"Original MergeSort Runtime\"], 'b', label = 'Original')\n",
    "plt.plot(df1[\"N\"], df1[\"Modified MergeSort Runtime\"], 'r', label = 'Modified')\n",
    "plt.ylabel('Execution Times')\n",
    "plt.xlabel('Array Sizes')\n",
    "plt.title(\"Graph plotting Runtimes against Array Size\")\n",
    "plt.legend()\n",
    "plt.show()\n",
    "\n",
    "##keycomp\n",
    "plt.plot(df2[\"N\"], df2[\"Original MergeSort KeyComp\"], 'b', label = 'Original')\n",
    "plt.plot(df2[\"N\"], df2[\"Modified MergeSort KeyComp\"], 'r', label = 'Modified')\n",
    "plt.ylabel('Key Comparisons')\n",
    "plt.xlabel('Array Sizes')\n",
    "plt.title(\"Graph plotting Key Comp against Array Size\")\n",
    "plt.legend()\n",
    "plt.show()\n"
   ]
  },
  {
   "cell_type": "code",
   "execution_count": null,
   "metadata": {},
   "outputs": [],
   "source": []
  }
 ],
 "metadata": {
  "kernelspec": {
   "display_name": "Python 3",
   "language": "python",
   "name": "python3"
  },
  "language_info": {
   "codemirror_mode": {
    "name": "ipython",
    "version": 3
   },
   "file_extension": ".py",
   "mimetype": "text/x-python",
   "name": "python",
   "nbconvert_exporter": "python",
   "pygments_lexer": "ipython3",
   "version": "3.7.1"
  }
 },
 "nbformat": 4,
 "nbformat_minor": 2
}
