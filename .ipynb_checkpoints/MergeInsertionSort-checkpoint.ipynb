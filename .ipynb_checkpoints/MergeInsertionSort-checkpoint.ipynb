{
 "cells": [
  {
   "cell_type": "markdown",
   "metadata": {},
   "source": [
    "## CZ2001 Algorithms Example Class 3\n",
    "3B: Integration of Mergesort and Insertion Sort"
   ]
  },
  {
   "cell_type": "code",
   "execution_count": 1,
   "metadata": {},
   "outputs": [],
   "source": [
    "import time\n",
    "import random\n",
    "import pandas as pd\n",
    "import matplotlib.pyplot as plt"
   ]
  },
  {
   "cell_type": "markdown",
   "metadata": {},
   "source": [
    "## MergeSort"
   ]
  },
  {
   "cell_type": "code",
   "execution_count": 2,
   "metadata": {
    "scrolled": true
   },
   "outputs": [],
   "source": [
    "class MergeSort:\n",
    "    key_comp = 0\n",
    "    \n",
    "    def run(self, arr):\n",
    "        start = time.perf_counter()\n",
    "        sorted_arr = self.mergeSort(arr)\n",
    "        end = time.perf_counter()\n",
    "\n",
    "        print(\"\\nYour sorted array is: \" + str(sorted_arr))\n",
    "        print(\"It took you \" + str((end-start)*100) + \" * 10^-2 seconds to complete the sort\")\n",
    "        \n",
    "    def run_time(self, arr):\n",
    "        start = time.perf_counter()\n",
    "        sorted_arr = self.mergeSort(arr)\n",
    "        del sorted_arr\n",
    "        end = time.perf_counter()\n",
    "        return end-start\n",
    "        \n",
    "    def mergeSort(self, arr):\n",
    "        # Base case\n",
    "        if len(arr) <= 1:\n",
    "            return arr\n",
    "\n",
    "        # Divide the array into two halves\n",
    "        mid = len(arr) // 2\n",
    "        left_arr = arr[:mid] # Partition left array, not inclusive of the middle index\n",
    "        right_arr = arr[mid:] # Partition right array, inclusive of the middle index\n",
    "\n",
    "        # Recursively divide the arrays into 2 until the base case\n",
    "        left_arr = self.mergeSort(left_arr)\n",
    "        right_arr = self.mergeSort(right_arr)\n",
    "        return self.merge(left_arr, right_arr)\n",
    "\n",
    "    # Merge function\n",
    "    def merge(self, left_arr, right_arr):\n",
    "        return_arr = []\n",
    "\n",
    "        # While either the left array or right array still has elements remaining\n",
    "        while left_arr and right_arr:\n",
    "            # Compare the first element of the left array to the first element of the right array\n",
    "            if left_arr[0] < right_arr[0]:\n",
    "                return_arr.append(left_arr[0]) # Add the element to the end of the array to be returned\n",
    "                left_arr.pop(0) # Remove the element from the left array\n",
    "            else:\n",
    "                return_arr.append(right_arr[0])\n",
    "                right_arr.pop(0)\n",
    "            self.key_comp += 1\n",
    "\n",
    "        if left_arr:\n",
    "            return_arr.extend(left_arr)\n",
    "        else:\n",
    "            return_arr.extend(right_arr)\n",
    "\n",
    "        return return_arr"
   ]
  },
  {
   "cell_type": "markdown",
   "metadata": {},
   "source": [
    "## Modified MergeSort (extends MergeSort)"
   ]
  },
  {
   "cell_type": "code",
   "execution_count": 3,
   "metadata": {},
   "outputs": [],
   "source": [
    "class ModifiedMergeSort(MergeSort):\n",
    "    #key_comp = 0    # in parent class\n",
    "    \n",
    "    def __init__(self, S):\n",
    "        self.S_val = S\n",
    "        \n",
    "    def set_S(self, S):\n",
    "        self.S_val = S\n",
    "        \n",
    "    def mergeSort(self, arr):\n",
    "        arr_length = len(arr)\n",
    "        \n",
    "        # Base case\n",
    "        if arr_length <= 1:\n",
    "            return arr\n",
    "        \n",
    "        # If the size of the array is smaller than S, carry out insertion sort\n",
    "        elif arr_length <= self.S_val:\n",
    "            return self.insertionSort(arr)\n",
    "        \n",
    "        # Else, carry out merge sort\n",
    "        else:\n",
    "            # Divide the array into two halves\n",
    "            mid = len(arr) // 2\n",
    "            left_arr = arr[:mid] # Partition left array, not inclusive of the middle index\n",
    "            right_arr = arr[mid:] # Partition right array, inclusive of the middle index\n",
    "\n",
    "            # Recursively divide the arrays into 2 until the base case\n",
    "            left_arr = self.mergeSort(left_arr)\n",
    "            right_arr = self.mergeSort(right_arr)\n",
    "            return self.merge(left_arr, right_arr)\n",
    "        \n",
    "    def insertionSort(self, arr):\n",
    "        arr_length = len(arr)\n",
    "        for i in range(1, arr_length):\n",
    "            for j in range(i, 0, -1):\n",
    "                if arr[j] < arr[j-1]:\n",
    "                    temp = arr[j]\n",
    "                    arr[j] = arr[j-1]\n",
    "                    arr[j-1] = temp\n",
    "                self.key_comp += 1\n",
    "        return arr"
   ]
  },
  {
   "cell_type": "markdown",
   "metadata": {},
   "source": [
    "## Helper Methods to Create Array\n",
    "Ways of creating array:\n",
    "- User input\n",
    "- n number of random integers\n",
    "- n number of integers in decreasing order\n",
    "- n number of integers in worst case order for merge sort"
   ]
  },
  {
   "cell_type": "code",
   "execution_count": 4,
   "metadata": {},
   "outputs": [],
   "source": [
    "def populate_array_input():\n",
    "    arr = []\n",
    "    while True:\n",
    "        val = input(\"Enter a number, type a non-number to quit: \")\n",
    "        try:\n",
    "            int(val)\n",
    "        except ValueError:\n",
    "            break\n",
    "        arr.append(val)\n",
    "    return arr\n",
    "\n",
    "\n",
    "def populate_array_random(arr_length):\n",
    "    arr = []\n",
    "    for i in range(int(arr_length)):\n",
    "        arr.append(random.randint(-100000, 100000))\n",
    "    return arr\n",
    "\n",
    "\n",
    "def populate_array_decreasing(arr_length):\n",
    "\n",
    "    arr = []\n",
    "    for i in range(int(arr_length)):\n",
    "        arr.append(random.randint(-100000, 100000))\n",
    "    arr.sort(reverse=True)\n",
    "    return arr\n",
    "\n",
    "\n",
    "# function to arrange array into worst case\n",
    "# array must already be sorted in ascending order\n",
    "def worstMergeSort(sorted_arr):\n",
    "    # Base case\n",
    "    if len(sorted_arr) <= 1:\n",
    "        return sorted_arr\n",
    "\n",
    "    # Partition left array with all the terms with even index\n",
    "    left_arr = []\n",
    "    for i in range(0, len(sorted_arr), 2):\n",
    "        left_arr.append(sorted_arr[i])\n",
    "\n",
    "    # Partition right array with all the terms with odd index\n",
    "    right_arr = []\n",
    "    for i in range(1, len(sorted_arr), 2):\n",
    "        right_arr.append(sorted_arr[i])\n",
    "\n",
    "    # Recursively divide the arrays into 2 until the base case for i in range(int(arr_length)):\n",
    "    left_arr = worstMergeSort(left_arr)\n",
    "    right_arr = worstMergeSort(right_arr)\n",
    "    return left_arr + right_arr\n",
    "\n",
    "\n",
    "def populate_array_worst(arr_length):\n",
    "    arr = []\n",
    "    for i in range(int(arr_length)):\n",
    "        arr.append(random.randint(-100000, 100000))\n",
    "    arr.sort()\n",
    "    worst_arr = worstMergeSort(arr)\n",
    "    return worst_arr"
   ]
  },
  {
   "cell_type": "markdown",
   "metadata": {},
   "source": [
    "## Run MergeSort"
   ]
  },
  {
   "cell_type": "code",
   "execution_count": 12,
   "metadata": {},
   "outputs": [
    {
     "name": "stdout",
     "output_type": "stream",
     "text": [
      "Enter a number, type a non-number to quit: 52\n",
      "Enter a number, type a non-number to quit: a\n",
      "\n",
      "Your sorted array is: ['52']\n",
      "It took you 0.0001499999996212864 * 10^-2 seconds to complete the sort\n"
     ]
    }
   ],
   "source": [
    "mSort = MergeSort()\n",
    "arr = populate_array_input()\n",
    "mSort.run(arr)"
   ]
  },
  {
   "cell_type": "code",
   "execution_count": 13,
   "metadata": {},
   "outputs": [
    {
     "name": "stdout",
     "output_type": "stream",
     "text": [
      "\n",
      "Your sorted array is: [-73400, -73226, -55971, -6979, -2417, 3601, 16326, 24001, 27244, 35676, 36699, 40505, 43734, 44749, 46333, 50041, 54910, 65993, 66946, 80723, 86611, 94448, 97237]\n",
      "It took you 0.0046600000018770515 * 10^-2 seconds to complete the sort\n"
     ]
    }
   ],
   "source": [
    "mmSort = ModifiedMergeSort(5)\n",
    "arr = populate_array_random(23)\n",
    "mmSort.run(arr)"
   ]
  },
  {
   "cell_type": "code",
   "execution_count": 14,
   "metadata": {},
   "outputs": [
    {
     "name": "stdout",
     "output_type": "stream",
     "text": [
      "\n",
      "Your sorted array is: [-99070, -95937, -85875, -65464, -51739, -43637, -25747, -24169, -18599, -16998, -13689, 29738, 43885, 47854, 49512, 50057, 51857, 53405, 54136, 60965, 72021, 82500, 93319]\n",
      "It took you 0.004690000000096006 * 10^-2 seconds to complete the sort\n"
     ]
    }
   ],
   "source": [
    "mmSort.set_S(3)\n",
    "arr =populate_array_random(23)\n",
    "mmSort.run(arr)"
   ]
  },
  {
   "cell_type": "code",
   "execution_count": 8,
   "metadata": {},
   "outputs": [
    {
     "name": "stdout",
     "output_type": "stream",
     "text": [
      "\n",
      "Your sorted array is: [-98492, -98338, -93424, -88404, -73984, -69522, -44963, -43115, -32913, -31794, -13026, -11681, -9234, 11796, 23441, 52229, 57960, 59537, 61238, 79678, 82345, 94375, 96739]\n",
      "It took you 0.0045999999997548 * 10^-2 seconds to complete the sort\n"
     ]
    }
   ],
   "source": [
    "arr = populate_array_decreasing(23)\n",
    "mmSort.run(arr)"
   ]
  },
  {
   "cell_type": "markdown",
   "metadata": {},
   "source": [
    "# Get runtimes for different values of S and n"
   ]
  },
  {
   "cell_type": "code",
   "execution_count": 9,
   "metadata": {},
   "outputs": [],
   "source": [
    "def iterate_sort_random_fixed_n(arr_length):\n",
    "    # generate a random array of size n\n",
    "    time_taken_list = []\n",
    "    arr = populate_array_random(arr_length)\n",
    "    for i in range(0, arr_length+1):\n",
    "        mms = ModifiedMergeSort(i)\n",
    "        #get average of 100 runs\n",
    "        total_runtime = 0\n",
    "        for j in range(100):\n",
    "            total_runtime += mms.run_time(arr)\n",
    "        average_runtime_100 = total_runtime/100\n",
    "        time_taken_list.append(average_runtime_100)\n",
    "    return time_taken_list\n",
    "\n",
    "def iterate_sort_worst_fixec_n(arr_length):\n",
    "    # generate a random array of size n\n",
    "    time_taken_list = []\n",
    "    arr = populate_array_worst(arr_length)\n",
    "    for i in range(0, arr_length+1):\n",
    "        mms = ModifiedMergeSort(i)\n",
    "        #get average of 100 runs\n",
    "        total_runtime = 0\n",
    "        for j in range(100):\n",
    "            total_runtime += mms.run_time(arr)\n",
    "        average_runtime_100 = total_runtime/100\n",
    "        time_taken_list.append(average_runtime_100)\n",
    "    return time_taken_list"
   ]
  },
  {
   "cell_type": "code",
   "execution_count": 11,
   "metadata": {},
   "outputs": [
    {
     "name": "stdout",
     "output_type": "stream",
     "text": [
      "Enter the value of n:\n",
      "10\n",
      "     S  average case  worst case\n",
      "0    0      0.000030    0.000015\n",
      "1    1      0.000030    0.000015\n",
      "2    2      0.000020    0.000014\n",
      "3    3      0.000013    0.000013\n",
      "4    4      0.000013    0.000013\n",
      "5    5      0.000011    0.000011\n",
      "6    6      0.000011    0.000011\n",
      "7    7      0.000011    0.000011\n",
      "8    8      0.000012    0.000011\n",
      "9    9      0.000011    0.000011\n",
      "10  10      0.000014    0.000010 \n",
      "\n",
      "   S  average case  worst case\n",
      "6  6      0.000011    0.000011\n",
      "     S  average case  worst case\n",
      "10  10      0.000014     0.00001\n"
     ]
    },
    {
     "data": {
      "image/png": "[encoded data removed]",
      "text/plain": [
       "<Figure size 432x288 with 1 Axes>"
      ]
     },
     "metadata": {
      "needs_background": "light"
     },
     "output_type": "display_data"
    }
   ],
   "source": [
    "n = int(input(\"Enter the value of n:\\n\"))\n",
    "average_runtime = iterate_sort_random_fixed_n(n)\n",
    "worst_runtime = iterate_sort_worst_fixec_n(n)\n",
    "\n",
    "\n",
    "df = pd.DataFrame({\"S\": range(0, n+1), \"average case\": average_runtime, \"worst case\": worst_runtime})\n",
    "print(df,\"\\n\")\n",
    "\n",
    "#to find row with the fastest time\n",
    "print(df.loc[df[\"average case\"] == df[\"average case\"].min()])\n",
    "print(df.loc[df[\"worst case\"] == df[\"worst case\"].min()])\n",
    "\n",
    "#plot average case in blue and worst case in red in increasing S for n\n",
    "plt.plot(df[\"S\"], df[\"average case\"], 'b', df[\"S\"], df[\"worst case\"], 'r')\n",
    "plt.ylabel('t')\n",
    "plt.xlabel('n = '+ str(n))\n",
    "plt.show()\n"
   ]
  },
  {
   "cell_type": "code",
   "execution_count": null,
   "metadata": {},
   "outputs": [],
   "source": []
  }
 ],
 "metadata": {
  "kernelspec": {
   "display_name": "Python 3",
   "language": "python",
   "name": "python3"
  },
  "language_info": {
   "codemirror_mode": {
    "name": "ipython",
    "version": 3
   },
   "file_extension": ".py",
   "mimetype": "text/x-python",
   "name": "python",
   "nbconvert_exporter": "python",
   "pygments_lexer": "ipython3",
   "version": "3.7.1"
  }
 },
 "nbformat": 4,
 "nbformat_minor": 2
}
