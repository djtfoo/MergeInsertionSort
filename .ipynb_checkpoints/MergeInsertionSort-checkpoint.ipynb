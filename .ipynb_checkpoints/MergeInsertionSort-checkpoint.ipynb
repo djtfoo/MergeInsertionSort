{
 "cells": [
  {
   "cell_type": "markdown",
   "metadata": {},
   "source": [
    "## CZ2001 Algorithms Example Class 3\n",
    "3B: Integration of Mergesort and Insertion Sort"
   ]
  },
  {
   "cell_type": "code",
   "execution_count": 1,
   "metadata": {},
   "outputs": [],
   "source": [
    "import time\n",
    "import random\n",
    "import pandas as pd\n",
    "import matplotlib.pyplot as plt"
   ]
  },
  {
   "cell_type": "markdown",
   "metadata": {},
   "source": [
    "## MergeSort"
   ]
  },
  {
   "cell_type": "code",
   "execution_count": 17,
   "metadata": {
    "scrolled": true
   },
   "outputs": [],
   "source": [
    "class MergeSort:\n",
    "    key_comp = 0\n",
    "    \n",
    "    def run(self, arr):\n",
    "        start = time.perf_counter()\n",
    "        sorted_arr = self.mergeSort(arr)\n",
    "        end = time.perf_counter()\n",
    "\n",
    "        print(\"\\nYour sorted array is: \" + str(sorted_arr))\n",
    "        print(\"It took you \" + str((end-start)*100) + \" * 10^-2 seconds to complete the sort\")\n",
    "        \n",
    "    def run_time(self, arr):\n",
    "        start = time.perf_counter()\n",
    "        sorted_arr = self.mergeSort(arr)\n",
    "        del sorted_arr\n",
    "        end = time.perf_counter()\n",
    "        return end-start\n",
    "        \n",
    "    def mergeSort(self, arr):\n",
    "        # Base case\n",
    "        if len(arr) <= 1:\n",
    "            return arr\n",
    "\n",
    "        # Divide the array into two halves\n",
    "        mid = len(arr) // 2\n",
    "        left_arr = arr[:mid] # Partition left array, not inclusive of the middle index\n",
    "        right_arr = arr[mid:] # Partition right array, inclusive of the middle index\n",
    "\n",
    "        # Recursively divide the arrays into 2 until the base case\n",
    "        left_arr = self.mergeSort(left_arr)\n",
    "        right_arr = self.mergeSort(right_arr)\n",
    "        return self.merge(left_arr, right_arr)\n",
    "\n",
    "    # Merge function\n",
    "    def merge(self, left_arr, right_arr):\n",
    "        return_arr = []\n",
    "\n",
    "        # While either the left array or right array still has elements remaining\n",
    "        while left_arr and right_arr:\n",
    "            # Compare the first element of the left array to the first element of the right array\n",
    "            if left_arr[0] < right_arr[0]:\n",
    "                return_arr.append(left_arr[0]) # Add the element to the end of the array to be returned\n",
    "                left_arr.pop(0) # Remove the element from the left array\n",
    "            else:\n",
    "                return_arr.append(right_arr[0])\n",
    "                right_arr.pop(0)\n",
    "            self.key_comp += 1\n",
    "\n",
    "        if left_arr:\n",
    "            return_arr.extend(left_arr)\n",
    "        else:\n",
    "            return_arr.extend(right_arr)\n",
    "\n",
    "        return return_arr"
   ]
  },
  {
   "cell_type": "markdown",
   "metadata": {},
   "source": [
    "## Modified MergeSort (extends MergeSort)"
   ]
  },
  {
   "cell_type": "code",
   "execution_count": 18,
   "metadata": {},
   "outputs": [],
   "source": [
    "class ModifiedMergeSort(MergeSort):\n",
    "    #key_comp = 0    # in parent class\n",
    "    \n",
    "    def __init__(self, S):\n",
    "        self.S_val = S\n",
    "        \n",
    "    def set_S(self, S):\n",
    "        self.S_val = S\n",
    "        \n",
    "    def mergeSort(self, arr):\n",
    "        arr_length = len(arr)\n",
    "        \n",
    "        # Base case\n",
    "        if arr_length <= 1:\n",
    "            return arr\n",
    "        \n",
    "        # If the size of the array is smaller than S, carry out insertion sort\n",
    "        elif arr_length <= self.S_val:\n",
    "            return self.insertionSort(arr)\n",
    "        \n",
    "        # Else, carry out merge sort\n",
    "        else:\n",
    "            # Divide the array into two halves\n",
    "            mid = len(arr) // 2\n",
    "            left_arr = arr[:mid] # Partition left array, not inclusive of the middle index\n",
    "            right_arr = arr[mid:] # Partition right array, inclusive of the middle index\n",
    "\n",
    "            # Recursively divide the arrays into 2 until the base case\n",
    "            left_arr = self.mergeSort(left_arr)\n",
    "            right_arr = self.mergeSort(right_arr)\n",
    "            return self.merge(left_arr, right_arr)\n",
    "        \n",
    "    def insertionSort(self, arr):\n",
    "        arr_length = len(arr)\n",
    "        for i in range(1, arr_length):\n",
    "            for j in range(i, 0, -1):\n",
    "                if arr[j] < arr[j-1]:\n",
    "                    temp = arr[j]\n",
    "                    arr[j] = arr[j-1]\n",
    "                    arr[j-1] = temp\n",
    "                self.key_comp += 1\n",
    "        return arr"
   ]
  },
  {
   "cell_type": "markdown",
   "metadata": {},
   "source": [
    "## Helper Methods to Populate Array\n",
    "Ways of populating array:\n",
    "- User input\n",
    "- n number of random integers\n",
    "- n number of integers in decreasing order"
   ]
  },
  {
   "cell_type": "code",
   "execution_count": 19,
   "metadata": {},
   "outputs": [],
   "source": [
    "def populate_array_input(arr):\n",
    "    while True:\n",
    "        val = input(\"Enter a number, type a non-number to quit: \")\n",
    "        try:\n",
    "            int(val)\n",
    "        except ValueError:\n",
    "            break\n",
    "        arr.append(val)\n",
    "        \n",
    "def populate_array_random(arr,arr_length):\n",
    "\n",
    "    for i in range(int(arr_length)):\n",
    "        arr.append(random.randint(-100000, 100000))\n",
    "\n",
    "\n",
    "def populate_array_decreasing(arr,arr_length):\n",
    "\n",
    "\n",
    "    for i in range(int(arr_length)):\n",
    "        arr.append(random.randint(-100000, 100000))\n",
    "    arr.sort(reverse=True)"
   ]
  },
  {
   "cell_type": "markdown",
   "metadata": {},
   "source": [
    "## Run MergeSort"
   ]
  },
  {
   "cell_type": "code",
   "execution_count": 5,
   "metadata": {},
   "outputs": [
    {
     "name": "stdout",
     "output_type": "stream",
     "text": [
      "Enter a number, type a non-number to quit: s\n",
      "\n",
      "Your sorted array is: []\n",
      "It took you 0.0002300000005561742 * 10^-2 seconds to complete the sort\n"
     ]
    }
   ],
   "source": [
    "mSort = MergeSort()\n",
    "arr = []\n",
    "populate_array_input(arr)\n",
    "mSort.run(arr)"
   ]
  },
  {
   "cell_type": "code",
   "execution_count": 7,
   "metadata": {},
   "outputs": [
    {
     "name": "stdout",
     "output_type": "stream",
     "text": [
      "\n",
      "Your sorted array is: [-94477, -70291, -58817, -50295, -50093, -38957, -36238, -24506, -24165, -19253, -19121, -6743, -674, 1153, 7106, 23236, 43436, 47915, 49152, 56772, 66548, 95275, 96412]\n",
      "It took you 0.00837000000046828 * 10^-2 seconds to complete the sort\n"
     ]
    }
   ],
   "source": [
    "mmSort = ModifiedMergeSort(5)\n",
    "arr = []\n",
    "populate_array_random(arr,23)\n",
    "mmSort.run(arr)"
   ]
  },
  {
   "cell_type": "code",
   "execution_count": 8,
   "metadata": {},
   "outputs": [
    {
     "name": "stdout",
     "output_type": "stream",
     "text": [
      "\n",
      "Your sorted array is: [-81749, -71999, -44305, -43894, -35152, -29802, -17421, -2168, 2068, 6893, 7910, 12956, 26833, 28824, 48573, 49866, 66308, 70806, 83929, 95503, 97958, 99673, 99963]\n",
      "It took you 0.014059999999460615 * 10^-2 seconds to complete the sort\n"
     ]
    }
   ],
   "source": [
    "mmSort.set_S(3)\n",
    "arr = []\n",
    "populate_array_random(arr,23)\n",
    "mmSort.run(arr)"
   ]
  },
  {
   "cell_type": "code",
   "execution_count": 9,
   "metadata": {},
   "outputs": [
    {
     "name": "stdout",
     "output_type": "stream",
     "text": [
      "\n",
      "Your sorted array is: [-99106, -90809, -88472, -75527, -72987, -72414, -49493, -43799, -27063, -5514, 2933, 28025, 37708, 43290, 45303, 46001, 59584, 66213, 78111, 89731, 91690, 95570, 99870]\n",
      "It took you 0.011510000000214404 * 10^-2 seconds to complete the sort\n"
     ]
    }
   ],
   "source": [
    "arr = []\n",
    "populate_array_decreasing(arr,23)\n",
    "mmSort.run(arr)"
   ]
  },
  {
   "cell_type": "markdown",
   "metadata": {},
   "source": [
    "# Get runtimes for different values of S and n"
   ]
  },
  {
   "cell_type": "code",
   "execution_count": 20,
   "metadata": {},
   "outputs": [
    {
     "name": "stdout",
     "output_type": "stream",
     "text": [
      "Enter the value of n50\n",
      "     S  average case  worst case\n",
      "0    0      0.000121    0.000087\n",
      "1    1      0.000107    0.000085\n",
      "2    2      0.000105    0.000085\n",
      "3    3      0.000097    0.000075\n",
      "4    4      0.000100    0.000076\n",
      "5    5      0.000095    0.000074\n",
      "6    6      0.000091    0.000078\n",
      "7    7      0.000091    0.000080\n",
      "8    8      0.000090    0.000078\n",
      "9    9      0.000090    0.000079\n",
      "10  10      0.000095    0.000079\n",
      "11  11      0.000090    0.000079\n",
      "12  12      0.000096    0.000092\n",
      "13  13      0.000103    0.000109\n",
      "14  14      0.000104    0.000108\n",
      "15  15      0.000102    0.000107\n",
      "16  16      0.000104    0.000107\n",
      "17  17      0.000104    0.000109\n",
      "18  18      0.000105    0.000108\n",
      "19  19      0.000106    0.000109\n",
      "20  20      0.000105    0.000109\n",
      "21  21      0.000105    0.000110\n",
      "22  22      0.000104    0.000116\n",
      "23  23      0.000108    0.000109\n",
      "24  24      0.000105    0.000113\n",
      "25  25      0.000150    0.000183\n",
      "26  26      0.000149    0.000185\n",
      "27  27      0.000150    0.000184\n",
      "28  28      0.000149    0.000184\n",
      "29  29      0.000150    0.000184\n",
      "30  30      0.000150    0.000185\n",
      "31  31      0.000149    0.000186\n",
      "32  32      0.000149    0.000184\n",
      "33  33      0.000150    0.000189\n",
      "34  34      0.000150    0.000183\n",
      "35  35      0.000150    0.000182\n",
      "36  36      0.000149    0.000185\n",
      "37  37      0.000151    0.000183\n",
      "38  38      0.000150    0.000184\n",
      "39  39      0.000150    0.000183\n",
      "40  40      0.000150    0.000183\n",
      "41  41      0.000149    0.000183\n",
      "42  42      0.000150    0.000188\n",
      "43  43      0.000149    0.000183\n",
      "44  44      0.000150    0.000183\n",
      "45  45      0.000149    0.000185\n",
      "46  46      0.000150    0.000183\n",
      "47  47      0.000153    0.000184\n",
      "48  48      0.000151    0.000289\n",
      "49  49      0.000150    0.000347\n",
      "50  50      0.000195    0.000398\n"
     ]
    },
    {
     "data": {
      "image/png": "[encoded data removed]",
      "text/plain": [
       "<Figure size 432x288 with 1 Axes>"
      ]
     },
     "metadata": {
      "needs_background": "light"
     },
     "output_type": "display_data"
    }
   ],
   "source": [
    "def iterate_sort_random(arr_length):\n",
    "    # generate a random array of size n\n",
    "    arr = []\n",
    "    time_taken_list = []\n",
    "    populate_array_random(arr,arr_length)\n",
    "    for i in range(0, arr_length+1):\n",
    "        mms = ModifiedMergeSort(i)\n",
    "        #get average of 100 runs\n",
    "        total_runtime = 0\n",
    "        for j in range(100):\n",
    "            total_runtime += mms.run_time(arr)\n",
    "        average_runtime_100 = total_runtime/100\n",
    "        time_taken_list.append(average_runtime_100)\n",
    "    return time_taken_list\n",
    "\n",
    "def iterate_sort_worst(arr_length):\n",
    "    # generate a random array of size n\n",
    "    arr = []\n",
    "    time_taken_list = []\n",
    "    populate_array_decreasing(arr,arr_length)\n",
    "    for i in range(0, arr_length+1):\n",
    "        mms = ModifiedMergeSort(i)\n",
    "        #get average of 100 runs\n",
    "        total_runtime = 0\n",
    "        for j in range(100):\n",
    "            total_runtime += mms.run_time(arr)\n",
    "        average_runtime_100 = total_runtime/100\n",
    "        time_taken_list.append(average_runtime_100)\n",
    "    return time_taken_list\n",
    "\n",
    "n = int(input(\"Enter the value of n\\n\"))\n",
    "average_runtime = iterate_sort_random(n)\n",
    "worst_runtime = iterate_sort_worst(n)\n",
    "\n",
    "\n",
    "df = pd.DataFrame({\"S\": range(0, n+1), \"average case\": average_runtime, \"worst case\": worst_runtime})\n",
    "print(df)\n",
    "plt.plot(df[\"S\"], df[\"average case\"], df[\"S\"], df[\"worst case\"])\n",
    "plt.ylabel('t')\n",
    "plt.xlabel('n = 100')\n",
    "plt.show()\n"
   ]
  },
  {
   "cell_type": "code",
   "execution_count": null,
   "metadata": {},
   "outputs": [],
   "source": []
  }
 ],
 "metadata": {
  "kernelspec": {
   "display_name": "Python 3",
   "language": "python",
   "name": "python3"
  },
  "language_info": {
   "codemirror_mode": {
    "name": "ipython",
    "version": 3
   },
   "file_extension": ".py",
   "mimetype": "text/x-python",
   "name": "python",
   "nbconvert_exporter": "python",
   "pygments_lexer": "ipython3",
   "version": "3.7.1"
  }
 },
 "nbformat": 4,
 "nbformat_minor": 2
}
