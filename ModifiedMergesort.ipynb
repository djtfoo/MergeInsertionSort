{
 "cells": [
  {
   "cell_type": "markdown",
   "metadata": {},
   "source": [
    "# CZ2001 Algorithms Example Class 3\n",
    "3B: Integration of Mergesort and Insertion Sort\n",
    "\n",
    "<b>Notebook 1: Modified Mergesort - Values of S</b>"
   ]
  },
  {
   "cell_type": "code",
   "execution_count": 16,
   "metadata": {},
   "outputs": [],
   "source": [
    "import random\n",
    "import pandas as pd\n",
    "import matplotlib.pyplot as plt\n",
    "import numpy as np\n",
    "import seaborn as sns\n",
    "from scipy import stats"
   ]
  },
  {
   "cell_type": "markdown",
   "metadata": {},
   "source": [
    "## Import MergeSort & Modified Mergesort codes\n",
    "\n",
    "Methods in Mergesort:\n",
    "- <b>run(arr)</b>: Run the mergesort on the given array, and prints the sorted array, the execution time and no. key comparisons made.\n",
    "- <b>run_time(arr)</b>: Run the mergesort on the given array, and returns the execution time. (Units: )\n",
    "- <b>run_keycomp(arr)</b>: Run the mergesort on the given array, and returns the no. key comparisons made."
   ]
  },
  {
   "cell_type": "code",
   "execution_count": 2,
   "metadata": {
    "scrolled": true
   },
   "outputs": [],
   "source": [
    "exec(open(\"mergesort.py\").read())"
   ]
  },
  {
   "cell_type": "markdown",
   "metadata": {},
   "source": [
    "## Import Helper Methods to Create Arrays\n",
    "4 methods to create arrays:\n",
    "- <b>populate_array_input()</b>: Gets user input for each element in the array.\n",
    "- <b>populate_array_random(arr_length)</b>: Creates an array of n random integers.\n",
    "- <b>populate_array_decreasing(arr_length)</b>: Creates an array of n integers sorted in decreasing order.\n",
    "- <b>populate_array_worst(arr_length)</b>: Creates an array of n integers which provides the worst case of mergesort."
   ]
  },
  {
   "cell_type": "code",
   "execution_count": 3,
   "metadata": {},
   "outputs": [],
   "source": [
    "exec(open(\"populatearray.py\").read())"
   ]
  },
  {
   "cell_type": "markdown",
   "metadata": {},
   "source": [
    "## Run MergeSort (Testing only)"
   ]
  },
  {
   "cell_type": "code",
   "execution_count": 4,
   "metadata": {},
   "outputs": [
    {
     "name": "stdout",
     "output_type": "stream",
     "text": [
      "Enter a number, type a non-number to quit: as\n"
     ]
    },
    {
     "ename": "KeyboardInterrupt",
     "evalue": "",
     "output_type": "error",
     "traceback": [
      "\u001b[1;31m---------------------------------------------------------------------------\u001b[0m",
      "\u001b[1;31mKeyboardInterrupt\u001b[0m                         Traceback (most recent call last)",
      "\u001b[1;32m~\\Anaconda3\\lib\\site-packages\\ipykernel\\kernelbase.py\u001b[0m in \u001b[0;36m_input_request\u001b[1;34m(self, prompt, ident, parent, password)\u001b[0m\n\u001b[0;32m    877\u001b[0m             \u001b[1;32mtry\u001b[0m\u001b[1;33m:\u001b[0m\u001b[1;33m\u001b[0m\u001b[1;33m\u001b[0m\u001b[0m\n\u001b[1;32m--> 878\u001b[1;33m                 \u001b[0mident\u001b[0m\u001b[1;33m,\u001b[0m \u001b[0mreply\u001b[0m \u001b[1;33m=\u001b[0m \u001b[0mself\u001b[0m\u001b[1;33m.\u001b[0m\u001b[0msession\u001b[0m\u001b[1;33m.\u001b[0m\u001b[0mrecv\u001b[0m\u001b[1;33m(\u001b[0m\u001b[0mself\u001b[0m\u001b[1;33m.\u001b[0m\u001b[0mstdin_socket\u001b[0m\u001b[1;33m,\u001b[0m \u001b[1;36m0\u001b[0m\u001b[1;33m)\u001b[0m\u001b[1;33m\u001b[0m\u001b[1;33m\u001b[0m\u001b[0m\n\u001b[0m\u001b[0;32m    879\u001b[0m             \u001b[1;32mexcept\u001b[0m \u001b[0mException\u001b[0m\u001b[1;33m:\u001b[0m\u001b[1;33m\u001b[0m\u001b[1;33m\u001b[0m\u001b[0m\n",
      "\u001b[1;32m~\\Anaconda3\\lib\\site-packages\\jupyter_client\\session.py\u001b[0m in \u001b[0;36mrecv\u001b[1;34m(self, socket, mode, content, copy)\u001b[0m\n\u001b[0;32m    802\u001b[0m         \u001b[1;32mtry\u001b[0m\u001b[1;33m:\u001b[0m\u001b[1;33m\u001b[0m\u001b[1;33m\u001b[0m\u001b[0m\n\u001b[1;32m--> 803\u001b[1;33m             \u001b[0mmsg_list\u001b[0m \u001b[1;33m=\u001b[0m \u001b[0msocket\u001b[0m\u001b[1;33m.\u001b[0m\u001b[0mrecv_multipart\u001b[0m\u001b[1;33m(\u001b[0m\u001b[0mmode\u001b[0m\u001b[1;33m,\u001b[0m \u001b[0mcopy\u001b[0m\u001b[1;33m=\u001b[0m\u001b[0mcopy\u001b[0m\u001b[1;33m)\u001b[0m\u001b[1;33m\u001b[0m\u001b[1;33m\u001b[0m\u001b[0m\n\u001b[0m\u001b[0;32m    804\u001b[0m         \u001b[1;32mexcept\u001b[0m \u001b[0mzmq\u001b[0m\u001b[1;33m.\u001b[0m\u001b[0mZMQError\u001b[0m \u001b[1;32mas\u001b[0m \u001b[0me\u001b[0m\u001b[1;33m:\u001b[0m\u001b[1;33m\u001b[0m\u001b[1;33m\u001b[0m\u001b[0m\n",
      "\u001b[1;32m~\\Anaconda3\\lib\\site-packages\\zmq\\sugar\\socket.py\u001b[0m in \u001b[0;36mrecv_multipart\u001b[1;34m(self, flags, copy, track)\u001b[0m\n\u001b[0;32m    466\u001b[0m         \"\"\"\n\u001b[1;32m--> 467\u001b[1;33m         \u001b[0mparts\u001b[0m \u001b[1;33m=\u001b[0m \u001b[1;33m[\u001b[0m\u001b[0mself\u001b[0m\u001b[1;33m.\u001b[0m\u001b[0mrecv\u001b[0m\u001b[1;33m(\u001b[0m\u001b[0mflags\u001b[0m\u001b[1;33m,\u001b[0m \u001b[0mcopy\u001b[0m\u001b[1;33m=\u001b[0m\u001b[0mcopy\u001b[0m\u001b[1;33m,\u001b[0m \u001b[0mtrack\u001b[0m\u001b[1;33m=\u001b[0m\u001b[0mtrack\u001b[0m\u001b[1;33m)\u001b[0m\u001b[1;33m]\u001b[0m\u001b[1;33m\u001b[0m\u001b[1;33m\u001b[0m\u001b[0m\n\u001b[0m\u001b[0;32m    468\u001b[0m         \u001b[1;31m# have first part already, only loop while more to receive\u001b[0m\u001b[1;33m\u001b[0m\u001b[1;33m\u001b[0m\u001b[1;33m\u001b[0m\u001b[0m\n",
      "\u001b[1;32mzmq/backend/cython/socket.pyx\u001b[0m in \u001b[0;36mzmq.backend.cython.socket.Socket.recv\u001b[1;34m()\u001b[0m\n",
      "\u001b[1;32mzmq/backend/cython/socket.pyx\u001b[0m in \u001b[0;36mzmq.backend.cython.socket.Socket.recv\u001b[1;34m()\u001b[0m\n",
      "\u001b[1;32mzmq/backend/cython/socket.pyx\u001b[0m in \u001b[0;36mzmq.backend.cython.socket._recv_copy\u001b[1;34m()\u001b[0m\n",
      "\u001b[1;32m~\\Anaconda3\\lib\\site-packages\\zmq\\backend\\cython\\checkrc.pxd\u001b[0m in \u001b[0;36mzmq.backend.cython.checkrc._check_rc\u001b[1;34m()\u001b[0m\n",
      "\u001b[1;31mKeyboardInterrupt\u001b[0m: ",
      "\nDuring handling of the above exception, another exception occurred:\n",
      "\u001b[1;31mKeyboardInterrupt\u001b[0m                         Traceback (most recent call last)",
      "\u001b[1;32m<ipython-input-4-0194f09bceb9>\u001b[0m in \u001b[0;36m<module>\u001b[1;34m\u001b[0m\n\u001b[0;32m      1\u001b[0m \u001b[0mmSort\u001b[0m \u001b[1;33m=\u001b[0m \u001b[0mMergeSort\u001b[0m\u001b[1;33m(\u001b[0m\u001b[1;33m)\u001b[0m\u001b[1;33m\u001b[0m\u001b[1;33m\u001b[0m\u001b[0m\n\u001b[1;32m----> 2\u001b[1;33m \u001b[0marr\u001b[0m \u001b[1;33m=\u001b[0m \u001b[0mpopulate_array_input\u001b[0m\u001b[1;33m(\u001b[0m\u001b[1;33m)\u001b[0m\u001b[1;33m\u001b[0m\u001b[1;33m\u001b[0m\u001b[0m\n\u001b[0m\u001b[0;32m      3\u001b[0m \u001b[0mprint\u001b[0m\u001b[1;33m(\u001b[0m\u001b[0marr\u001b[0m\u001b[1;33m)\u001b[0m\u001b[1;33m\u001b[0m\u001b[1;33m\u001b[0m\u001b[0m\n\u001b[0;32m      4\u001b[0m \u001b[0mmSort\u001b[0m\u001b[1;33m.\u001b[0m\u001b[0mrun\u001b[0m\u001b[1;33m(\u001b[0m\u001b[0marr\u001b[0m\u001b[1;33m)\u001b[0m\u001b[1;33m\u001b[0m\u001b[1;33m\u001b[0m\u001b[0m\n",
      "\u001b[1;32m<string>\u001b[0m in \u001b[0;36mpopulate_array_input\u001b[1;34m()\u001b[0m\n",
      "\u001b[1;32m~\\Anaconda3\\lib\\site-packages\\ipykernel\\kernelbase.py\u001b[0m in \u001b[0;36mraw_input\u001b[1;34m(self, prompt)\u001b[0m\n\u001b[0;32m    851\u001b[0m             \u001b[0mself\u001b[0m\u001b[1;33m.\u001b[0m\u001b[0m_parent_ident\u001b[0m\u001b[1;33m,\u001b[0m\u001b[1;33m\u001b[0m\u001b[1;33m\u001b[0m\u001b[0m\n\u001b[0;32m    852\u001b[0m             \u001b[0mself\u001b[0m\u001b[1;33m.\u001b[0m\u001b[0m_parent_header\u001b[0m\u001b[1;33m,\u001b[0m\u001b[1;33m\u001b[0m\u001b[1;33m\u001b[0m\u001b[0m\n\u001b[1;32m--> 853\u001b[1;33m             \u001b[0mpassword\u001b[0m\u001b[1;33m=\u001b[0m\u001b[1;32mFalse\u001b[0m\u001b[1;33m,\u001b[0m\u001b[1;33m\u001b[0m\u001b[1;33m\u001b[0m\u001b[0m\n\u001b[0m\u001b[0;32m    854\u001b[0m         )\n\u001b[0;32m    855\u001b[0m \u001b[1;33m\u001b[0m\u001b[0m\n",
      "\u001b[1;32m~\\Anaconda3\\lib\\site-packages\\ipykernel\\kernelbase.py\u001b[0m in \u001b[0;36m_input_request\u001b[1;34m(self, prompt, ident, parent, password)\u001b[0m\n\u001b[0;32m    881\u001b[0m             \u001b[1;32mexcept\u001b[0m \u001b[0mKeyboardInterrupt\u001b[0m\u001b[1;33m:\u001b[0m\u001b[1;33m\u001b[0m\u001b[1;33m\u001b[0m\u001b[0m\n\u001b[0;32m    882\u001b[0m                 \u001b[1;31m# re-raise KeyboardInterrupt, to truncate traceback\u001b[0m\u001b[1;33m\u001b[0m\u001b[1;33m\u001b[0m\u001b[1;33m\u001b[0m\u001b[0m\n\u001b[1;32m--> 883\u001b[1;33m                 \u001b[1;32mraise\u001b[0m \u001b[0mKeyboardInterrupt\u001b[0m\u001b[1;33m\u001b[0m\u001b[1;33m\u001b[0m\u001b[0m\n\u001b[0m\u001b[0;32m    884\u001b[0m             \u001b[1;32melse\u001b[0m\u001b[1;33m:\u001b[0m\u001b[1;33m\u001b[0m\u001b[1;33m\u001b[0m\u001b[0m\n\u001b[0;32m    885\u001b[0m                 \u001b[1;32mbreak\u001b[0m\u001b[1;33m\u001b[0m\u001b[1;33m\u001b[0m\u001b[0m\n",
      "\u001b[1;31mKeyboardInterrupt\u001b[0m: "
     ]
    }
   ],
   "source": [
    "mSort = MergeSort()\n",
    "arr = populate_array_input()\n",
    "print(arr)\n",
    "mSort.run(arr)"
   ]
  },
  {
   "cell_type": "code",
   "execution_count": null,
   "metadata": {},
   "outputs": [],
   "source": [
    "mSort = ModifiedMergeSort(5)\n",
    "arr = populate_array_input()\n",
    "print(arr)\n",
    "mSort.run(arr)"
   ]
  },
  {
   "cell_type": "code",
   "execution_count": null,
   "metadata": {},
   "outputs": [],
   "source": [
    "mSort = MergeSort()\n",
    "arr = populate_array_random(23)\n",
    "print(arr)\n",
    "mSort.run(arr)"
   ]
  },
  {
   "cell_type": "code",
   "execution_count": null,
   "metadata": {},
   "outputs": [],
   "source": [
    "mmSort = ModifiedMergeSort(5)\n",
    "arr = populate_array_random(23)\n",
    "print(arr)\n",
    "mmSort.run(arr)"
   ]
  },
  {
   "cell_type": "code",
   "execution_count": null,
   "metadata": {},
   "outputs": [],
   "source": [
    "mmSort.set_S(3)\n",
    "arr =populate_array_random(23)\n",
    "print(arr)\n",
    "mmSort.run(arr)"
   ]
  },
  {
   "cell_type": "code",
   "execution_count": null,
   "metadata": {},
   "outputs": [],
   "source": [
    "arr = populate_array_decreasing(23)\n",
    "print(arr)\n",
    "mmSort.run(arr)"
   ]
  },
  {
   "cell_type": "code",
   "execution_count": null,
   "metadata": {},
   "outputs": [],
   "source": [
    "mmSort = ModifiedMergeSort(5)\n",
    "arr = populate_array_random(23)\n",
    "print(arr)\n",
    "kc_count = mmSort.run_keycomp(arr)\n",
    "print(\"No. Key Comparisons: \" + str(kc_count))"
   ]
  },
  {
   "cell_type": "markdown",
   "metadata": {},
   "source": [
    "# Get runtimes for different values of S and n"
   ]
  },
  {
   "cell_type": "code",
   "execution_count": null,
   "metadata": {},
   "outputs": [],
   "source": [
    "def iterate_sort_random_time(arr_length):\n",
    "    # generate a random array of size n\n",
    "    time_taken_list = []\n",
    "    arr = populate_array_random(arr_length)\n",
    "    for i in range(0, arr_length+1):\n",
    "        mms = ModifiedMergeSort(i)\n",
    "        #get average of 100 runs\n",
    "        total_runtime = 0\n",
    "        for j in range(100):\n",
    "            total_runtime += mms.run_time(arr)\n",
    "        average_runtime_100 = total_runtime/100\n",
    "        time_taken_list.append(average_runtime_100)\n",
    "    return time_taken_list\n",
    "\n",
    "def iterate_sort_worst_time(arr_length):\n",
    "    # generate a random array of size n\n",
    "    time_taken_list = []\n",
    "    arr = populate_array_worst(arr_length)\n",
    "    for i in range(0, arr_length+1):\n",
    "        mms = ModifiedMergeSort(i)\n",
    "        #get average of 100 runs\n",
    "        total_runtime = 0\n",
    "        for j in range(100):\n",
    "            total_runtime += mms.run_time(arr)\n",
    "        average_runtime_100 = total_runtime/100\n",
    "        time_taken_list.append(average_runtime_100)\n",
    "    return time_taken_list\n",
    "\n",
    "def iterate_sort_random_keycomp(arr_length):\n",
    "    mms = ModifiedMergeSort(0)\n",
    "    keycomp_list = []\n",
    "    for i in range(0, arr_length+1):\n",
    "        totalKeycomp = 0\n",
    "        for j in range(0, 100):\n",
    "            # generate a random array of size n\n",
    "            arr = populate_array_random(arr_length)\n",
    "            mms.set_S(i)\n",
    "            totalKeycomp += mms.run_keycomp(arr)\n",
    "            del arr\n",
    "        averageKeycomp = totalKeycomp/100\n",
    "        keycomp_list.append(averageKeycomp)\n",
    "        \n",
    "    return keycomp_list\n",
    "\n",
    "def iterate_sort_worst_keycomp(arr_length):\n",
    "    # generate a random array of size n\n",
    "    keycomp_list = []\n",
    "    arr = populate_array_worst(arr_length)\n",
    "    for i in range(0, arr_length+1):\n",
    "        mms = ModifiedMergeSort(i)\n",
    "        keycomp = mms.run_keycomp(arr)\n",
    "        keycomp_list.append(keycomp)\n",
    "    return keycomp_list\n",
    "\n",
    "def iterate_sort_decreasing_keycomp(arr_length):\n",
    "    # generate a random array of size n\n",
    "    keycomp_list = []\n",
    "    arr = populate_array_decreasing(arr_length)\n",
    "    for i in range(0, arr_length+1):\n",
    "        mms = ModifiedMergeSort(i)\n",
    "        keycomp = mms.run_keycomp(arr)\n",
    "        keycomp_list.append(keycomp)\n",
    "    return keycomp_list"
   ]
  },
  {
   "cell_type": "code",
   "execution_count": null,
   "metadata": {},
   "outputs": [],
   "source": [
    "n = int(input(\"Enter the value of n:\\n\"))\n",
    "average_runtime = iterate_sort_random_time(n)\n",
    "worst_runtime = iterate_sort_worst_time(n)\n",
    "\n",
    "\n",
    "df = pd.DataFrame({\"S\": range(0, n+1), \"average case\": average_runtime, \"worst case\": worst_runtime})\n",
    "print(df,\"\\n\")\n",
    "\n",
    "#to find row with the fastest time\n",
    "print(df.loc[df[\"average case\"] == df[\"average case\"].min()])\n",
    "print(df.loc[df[\"worst case\"] == df[\"worst case\"].min()])\n",
    "\n",
    "#plot average case in blue and worst case in red in increasing S for n\n",
    "plt.plot(df[\"S\"], df[\"average case\"], 'b', df[\"S\"], df[\"worst case\"], 'r')\n",
    "plt.ylabel('t')\n",
    "plt.xlabel('n = '+ str(n))\n",
    "plt.show()\n"
   ]
  },
  {
   "cell_type": "markdown",
   "metadata": {},
   "source": [
    "### Based on keycomp instead of time (Not used)\n",
    "Execution time is a more important factor over key comparisons, as we should would like to increase runtime performance."
   ]
  },
  {
   "cell_type": "code",
   "execution_count": null,
   "metadata": {
    "scrolled": false
   },
   "outputs": [],
   "source": [
    "n = int(input(\"Value of n?\\n\"))\n",
    "average_keycomp = iterate_sort_random_keycomp(n)\n",
    "worst_keycomp = iterate_sort_worst_keycomp(n)\n",
    "decreasing_keycomp = iterate_sort_decreasing_keycomp(n)\n",
    "df = pd.DataFrame({\"S\": range(0, n + 1), \"average case\": average_keycomp, \"worst case\": worst_keycomp, \"decreasing case\": decreasing_keycomp})\n",
    "print(\"n = \", n)\n",
    "print(\"lowest keycomp for average case\")\n",
    "print(df.loc[df[\"average case\"] == df[\"average case\"].min()])\n",
    "print(\"lowest keycomp for worst case\")\n",
    "print(df.loc[df[\"worst case\"] == df[\"worst case\"].min()])\n",
    "print(\"lowest keycomp for decreasing case\")\n",
    "print(df.loc[df[\"decreasing case\"] == df[\"decreasing case\"].min()])\n"
   ]
  },
  {
   "cell_type": "code",
   "execution_count": 26,
   "metadata": {},
   "outputs": [
    {
     "name": "stdout",
     "output_type": "stream",
     "text": [
      "   average S  worst S\n",
      "0         24       20\n",
      "1          7       15\n",
      "2         10       23\n",
      "3          7       16\n",
      "4         16        7\n"
     ]
    },
    {
     "data": {
      "image/png": "[encoded data removed]",
      "text/plain": [
       "<Figure size 2160x936 with 2 Axes>"
      ]
     },
     "metadata": {},
     "output_type": "display_data"
    }
   ],
   "source": [
    "values_S = pd.read_csv(\"Data/values_S.csv\")\n",
    "print(values_S.head())\n",
    "hist = values_S.hist(bins=50, figsize = (30,13))"
   ]
  },
  {
   "cell_type": "code",
   "execution_count": 49,
   "metadata": {},
   "outputs": [
    {
     "data": {
      "text/html": [
       "<div>\n",
       "<style scoped>\n",
       "    .dataframe tbody tr th:only-of-type {\n",
       "        vertical-align: middle;\n",
       "    }\n",
       "\n",
       "    .dataframe tbody tr th {\n",
       "        vertical-align: top;\n",
       "    }\n",
       "\n",
       "    .dataframe thead th {\n",
       "        text-align: right;\n",
       "    }\n",
       "</style>\n",
       "<table border=\"1\" class=\"dataframe\">\n",
       "  <thead>\n",
       "    <tr style=\"text-align: right;\">\n",
       "      <th></th>\n",
       "      <th>average S</th>\n",
       "      <th>worst S</th>\n",
       "    </tr>\n",
       "  </thead>\n",
       "  <tbody>\n",
       "    <tr>\n",
       "      <th>0</th>\n",
       "      <td>16</td>\n",
       "      <td>16</td>\n",
       "    </tr>\n",
       "  </tbody>\n",
       "</table>\n",
       "</div>"
      ],
      "text/plain": [
       "   average S  worst S\n",
       "0         16       16"
      ]
     },
     "execution_count": 49,
     "metadata": {},
     "output_type": "execute_result"
    },
    {
     "data": {
      "image/png": "[encoded data removed]",
      "text/plain": [
       "<Figure size 1800x1080 with 2 Axes>"
      ]
     },
     "metadata": {},
     "output_type": "display_data"
    }
   ],
   "source": [
    "f ,axes = plt.subplots(2,1,figsize = (25, 15))\n",
    "sns.distplot(values_S[\"average S\"], bins=50, kde=False, rug=True,ax = axes[0])\n",
    "sns.distplot(values_S[\"worst S\"], bins=50, kde=False, rug=True,ax = axes[1])\n",
    "values_S.mode()"
   ]
  },
  {
   "cell_type": "code",
   "execution_count": null,
   "metadata": {},
   "outputs": [],
   "source": []
  }
 ],
 "metadata": {
  "kernelspec": {
   "display_name": "Python 3",
   "language": "python",
   "name": "python3"
  },
  "language_info": {
   "codemirror_mode": {
    "name": "ipython",
    "version": 3
   },
   "file_extension": ".py",
   "mimetype": "text/x-python",
   "name": "python",
   "nbconvert_exporter": "python",
   "pygments_lexer": "ipython3",
   "version": "3.7.3"
  }
 },
 "nbformat": 4,
 "nbformat_minor": 2
}
