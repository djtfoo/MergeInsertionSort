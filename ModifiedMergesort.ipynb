{
 "cells": [
  {
   "cell_type": "markdown",
   "metadata": {},
   "source": [
    "# CZ2001 Algorithms Example Class 3\n",
    "3B: Integration of Mergesort and Insertion Sort\n",
    "\n",
    "<b>Notebook 1: Modified Mergesort - Values of S</b>"
   ]
  },
  {
   "cell_type": "code",
   "execution_count": 1,
   "metadata": {},
   "outputs": [],
   "source": [
    "import random\n",
    "import pandas as pd\n",
    "import matplotlib.pyplot as plt"
   ]
  },
  {
   "cell_type": "markdown",
   "metadata": {},
   "source": [
    "## Import MergeSort & Modified Mergesort codes\n",
    "\n",
    "Methods in Mergesort:\n",
    "- <b>run(arr)</b>: Run the mergesort on the given array, and prints the sorted array, the execution time and no. key comparisons made.\n",
    "- <b>run_time(arr)</b>: Run the mergesort on the given array, and returns the execution time. (Units: )\n",
    "- <b>run_keycomp(arr)</b>: Run the mergesort on the given array, and returns the no. key comparisons made."
   ]
  },
  {
   "cell_type": "code",
   "execution_count": 2,
   "metadata": {
    "scrolled": true
   },
   "outputs": [],
   "source": [
    "exec(open(\"mergesort.py\").read())"
   ]
  },
  {
   "cell_type": "markdown",
   "metadata": {},
   "source": [
    "## Import Helper Methods to Create Arrays\n",
    "4 methods to create arrays:\n",
    "- <b>populate_array_input()</b>: Gets user input for each element in the array.\n",
    "- <b>populate_array_random(arr_length)</b>: Creates an array of n random integers.\n",
    "- <b>populate_array_decreasing(arr_length)</b>: Creates an array of n integers sorted in decreasing order.\n",
    "- <b>populate_array_worst(arr_length)</b>: Creates an array of n integers which provides the worst case of mergesort."
   ]
  },
  {
   "cell_type": "code",
   "execution_count": 3,
   "metadata": {},
   "outputs": [],
   "source": [
    "exec(open(\"populatearray.py\").read())"
   ]
  },
  {
   "cell_type": "markdown",
   "metadata": {},
   "source": [
    "## Run MergeSort (Testing only)"
   ]
  },
  {
   "cell_type": "code",
   "execution_count": 4,
   "metadata": {},
   "outputs": [
    {
     "name": "stdout",
     "output_type": "stream",
     "text": [
      "Enter a number, type a non-number to quit: 2\n",
      "Enter a number, type a non-number to quit: 4\n",
      "Enter a number, type a non-number to quit: 1\n",
      "Enter a number, type a non-number to quit: 3\n",
      "Enter a number, type a non-number to quit: 4\n",
      "Enter a number, type a non-number to quit: f\n",
      "[2, 4, 1, 3, 4]\n",
      "\n",
      "Your sorted array is: [1, 2, 3, 4, 4]\n",
      "It took you 0.0026500000004148205 * 10^-2 seconds to complete the sort\n",
      "No. Key Comparisons: 7\n"
     ]
    }
   ],
   "source": [
    "mSort = MergeSort()\n",
    "arr = populate_array_input()\n",
    "print(arr)\n",
    "mSort.run(arr)"
   ]
  },
  {
   "cell_type": "code",
   "execution_count": 5,
   "metadata": {},
   "outputs": [
    {
     "name": "stdout",
     "output_type": "stream",
     "text": [
      "Enter a number, type a non-number to quit: asd\n",
      "[]\n",
      "\n",
      "Your sorted array is: []\n",
      "It took you 0.0001900000000887303 * 10^-2 seconds to complete the sort\n",
      "No. Key Comparisons: 0\n"
     ]
    }
   ],
   "source": [
    "mSort = ModifiedMergeSort(5)\n",
    "arr = populate_array_input()\n",
    "print(arr)\n",
    "mSort.run(arr)"
   ]
  },
  {
   "cell_type": "code",
   "execution_count": 6,
   "metadata": {},
   "outputs": [
    {
     "name": "stdout",
     "output_type": "stream",
     "text": [
      "[-6712, 11828, -57535, 21989, -50599, -63819, -71776, 55552, 27387, 40568, 96661, -22552, 80618, 17643, -22999, 35384, 64424, 66797, -81131, -34001, 67750, -51118, 41328]\n",
      "\n",
      "Your sorted array is: [-81131, -71776, -63819, -57535, -51118, -50599, -34001, -22999, -22552, -6712, 11828, 17643, 21989, 27387, 35384, 40568, 41328, 55552, 64424, 66797, 67750, 80618, 96661]\n",
      "It took you 0.004550000000058674 * 10^-2 seconds to complete the sort\n",
      "No. Key Comparisons: 77\n"
     ]
    }
   ],
   "source": [
    "mSort = MergeSort()\n",
    "arr = populate_array_random(23)\n",
    "print(arr)\n",
    "mSort.run(arr)"
   ]
  },
  {
   "cell_type": "code",
   "execution_count": 7,
   "metadata": {},
   "outputs": [
    {
     "name": "stdout",
     "output_type": "stream",
     "text": [
      "[66824, 51475, 21404, 29536, 40399, 59832, 82014, -9336, 5167, -86189, 92207, 4823, 69162, -68055, -8801, -76085, 95073, -53437, -68014, -72402, -69738, 14812, -45665]\n",
      "\n",
      "Your sorted array is: [-86189, -76085, -72402, -69738, -68055, -68014, -53437, -45665, -9336, -8801, 4823, 5167, 14812, 21404, 29536, 40399, 51475, 59832, 66824, 69162, 82014, 92207, 95073]\n",
      "It took you 0.005119999999969593 * 10^-2 seconds to complete the sort\n",
      "No. Key Comparisons: 79\n"
     ]
    }
   ],
   "source": [
    "mmSort = ModifiedMergeSort(5)\n",
    "arr = populate_array_random(23)\n",
    "print(arr)\n",
    "mmSort.run(arr)"
   ]
  },
  {
   "cell_type": "code",
   "execution_count": 8,
   "metadata": {},
   "outputs": [
    {
     "name": "stdout",
     "output_type": "stream",
     "text": [
      "[72797, 70968, 93210, 82480, 72152, -89975, 37152, 88005, 40608, 58818, -26094, 3828, -73170, 21879, -98265, -20374, -17520, -18542, -82022, -5417, 75836, -82538, 20830]\n",
      "\n",
      "Your sorted array is: [-98265, -89975, -82538, -82022, -73170, -26094, -20374, -18542, -17520, -5417, 3828, 20830, 21879, 37152, 40608, 58818, 70968, 72152, 72797, 75836, 82480, 88005, 93210]\n",
      "It took you 0.005499999999969418 * 10^-2 seconds to complete the sort\n",
      "No. Key Comparisons: 80\n"
     ]
    }
   ],
   "source": [
    "mmSort.set_S(3)\n",
    "arr =populate_array_random(23)\n",
    "print(arr)\n",
    "mmSort.run(arr)"
   ]
  },
  {
   "cell_type": "code",
   "execution_count": 9,
   "metadata": {},
   "outputs": [
    {
     "name": "stdout",
     "output_type": "stream",
     "text": [
      "[94090, 88181, 73014, 71041, 38485, 33883, 24660, 23049, 11904, 11580, -514, -4305, -5431, -28919, -31568, -32485, -33526, -35442, -41291, -59728, -72436, -77454, -98633]\n",
      "\n",
      "Your sorted array is: [-98633, -77454, -72436, -59728, -41291, -35442, -33526, -32485, -31568, -28919, -5431, -4305, -514, 11580, 11904, 23049, 24660, 33883, 38485, 71041, 73014, 88181, 94090]\n",
      "It took you 0.00496000000005381 * 10^-2 seconds to complete the sort\n",
      "No. Key Comparisons: 55\n"
     ]
    }
   ],
   "source": [
    "arr = populate_array_decreasing(23)\n",
    "print(arr)\n",
    "mmSort.run(arr)"
   ]
  },
  {
   "cell_type": "code",
   "execution_count": 10,
   "metadata": {},
   "outputs": [
    {
     "name": "stdout",
     "output_type": "stream",
     "text": [
      "[-46764, 17185, 59298, -19643, 79181, 48454, 36022, 80564, 99894, -26219, -87509, -97505, 88072, 58612, 97317, 86836, 67113, -86441, 63440, 2206, 59209, 37866, 67583]\n",
      "No. Key Comparisons: 74\n"
     ]
    }
   ],
   "source": [
    "mmSort = ModifiedMergeSort(5)\n",
    "arr = populate_array_random(23)\n",
    "print(arr)\n",
    "kc_count = mmSort.run_keycomp(arr)\n",
    "print(\"No. Key Comparisons: \" + str(kc_count))"
   ]
  },
  {
   "cell_type": "markdown",
   "metadata": {},
   "source": [
    "# Get runtimes for different values of S and n"
   ]
  },
  {
   "cell_type": "code",
   "execution_count": 35,
   "metadata": {},
   "outputs": [],
   "source": [
    "def iterate_sort_random_time(arr_length):\n",
    "    # generate a random array of size n\n",
    "    time_taken_list = []\n",
    "    arr = populate_array_random(arr_length)\n",
    "    for i in range(0, arr_length+1):\n",
    "        mms = ModifiedMergeSort(i)\n",
    "        #get average of 100 runs\n",
    "        total_runtime = 0\n",
    "        for j in range(100):\n",
    "            total_runtime += mms.run_time(arr)\n",
    "        average_runtime_100 = total_runtime/100\n",
    "        time_taken_list.append(average_runtime_100)\n",
    "    return time_taken_list\n",
    "\n",
    "def iterate_sort_worst_time(arr_length):\n",
    "    # generate a random array of size n\n",
    "    time_taken_list = []\n",
    "    arr = populate_array_worst(arr_length)\n",
    "    for i in range(0, arr_length+1):\n",
    "        mms = ModifiedMergeSort(i)\n",
    "        #get average of 100 runs\n",
    "        total_runtime = 0\n",
    "        for j in range(100):\n",
    "            total_runtime += mms.run_time(arr)\n",
    "        average_runtime_100 = total_runtime/100\n",
    "        time_taken_list.append(average_runtime_100)\n",
    "    return time_taken_list\n",
    "\n",
    "def iterate_sort_random_keycomp(arr_length):\n",
    "    mms = ModifiedMergeSort(0)\n",
    "    keycomp_list = []\n",
    "    for i in range(0, arr_length+1):\n",
    "        totalKeycomp = 0\n",
    "        for j in range(0, 100):\n",
    "            # generate a random array of size n\n",
    "            arr = populate_array_random(arr_length)\n",
    "            mms.set_S(i)\n",
    "            totalKeycomp += mms.run_keycomp(arr)\n",
    "            del arr\n",
    "        averageKeycomp = totalKeycomp/100\n",
    "        keycomp_list.append(averageKeycomp)\n",
    "        \n",
    "    return keycomp_list\n",
    "\n",
    "def iterate_sort_worst_keycomp(arr_length):\n",
    "    # generate a random array of size n\n",
    "    keycomp_list = []\n",
    "    arr = populate_array_worst(arr_length)\n",
    "    for i in range(0, arr_length+1):\n",
    "        mms = ModifiedMergeSort(i)\n",
    "        keycomp = mms.run_keycomp(arr)\n",
    "        keycomp_list.append(keycomp)\n",
    "    return keycomp_list\n",
    "\n",
    "def iterate_sort_decreasing_keycomp(arr_length):\n",
    "    # generate a random array of size n\n",
    "    keycomp_list = []\n",
    "    arr = populate_array_decreasing(arr_length)\n",
    "    for i in range(0, arr_length+1):\n",
    "        mms = ModifiedMergeSort(i)\n",
    "        keycomp = mms.run_keycomp(arr)\n",
    "        keycomp_list.append(keycomp)\n",
    "    return keycomp_list"
   ]
  },
  {
   "cell_type": "code",
   "execution_count": 30,
   "metadata": {},
   "outputs": [
    {
     "name": "stdout",
     "output_type": "stream",
     "text": [
      "Enter the value of n:\n",
      "100\n",
      "       S  average case  worst case\n",
      "0      0      0.000217    0.000237\n",
      "1      1      0.000211    0.000246\n",
      "2      2      0.000213    0.000255\n",
      "3      3      0.000200    0.000240\n",
      "4      4      0.000202    0.000237\n",
      "5      5      0.000200    0.000202\n",
      "6      6      0.000194    0.000213\n",
      "7      7      0.000211    0.000196\n",
      "8      8      0.000261    0.000203\n",
      "9      9      0.000177    0.000211\n",
      "10    10      0.000187    0.000199\n",
      "11    11      0.000191    0.000196\n",
      "12    12      0.000189    0.000194\n",
      "13    13      0.000189    0.000193\n",
      "14    14      0.000199    0.000194\n",
      "15    15      0.000188    0.000193\n",
      "16    16      0.000196    0.000216\n",
      "17    17      0.000193    0.000205\n",
      "18    18      0.000199    0.000201\n",
      "19    19      0.000190    0.000205\n",
      "20    20      0.000191    0.000194\n",
      "21    21      0.000194    0.000194\n",
      "22    22      0.000193    0.000196\n",
      "23    23      0.000194    0.000197\n",
      "24    24      0.000194    0.000196\n",
      "25    25      0.000224    0.000301\n",
      "26    26      0.000222    0.000274\n",
      "27    27      0.000229    0.000207\n",
      "28    28      0.000223    0.000281\n",
      "29    29      0.000225    0.000318\n",
      "..   ...           ...         ...\n",
      "71    71      0.000296    0.000303\n",
      "72    72      0.000308    0.000320\n",
      "73    73      0.000312    0.000306\n",
      "74    74      0.000328    0.000307\n",
      "75    75      0.000330    0.000309\n",
      "76    76      0.000336    0.000302\n",
      "77    77      0.000322    0.000309\n",
      "78    78      0.000319    0.000303\n",
      "79    79      0.000321    0.000308\n",
      "80    80      0.000321    0.000302\n",
      "81    81      0.000314    0.000322\n",
      "82    82      0.000312    0.000305\n",
      "83    83      0.000315    0.000296\n",
      "84    84      0.000312    0.000298\n",
      "85    85      0.000313    0.000301\n",
      "86    86      0.000331    0.000313\n",
      "87    87      0.000296    0.000312\n",
      "88    88      0.000317    0.000341\n",
      "89    89      0.000314    0.000337\n",
      "90    90      0.000314    0.000331\n",
      "91    91      0.000306    0.000325\n",
      "92    92      0.000284    0.000371\n",
      "93    93      0.000310    0.000325\n",
      "94    94      0.000320    0.000314\n",
      "95    95      0.000318    0.000290\n",
      "96    96      0.000324    0.000307\n",
      "97    97      0.000319    0.000297\n",
      "98    98      0.000288    0.000311\n",
      "99    99      0.000294    0.000302\n",
      "100  100      0.000549    0.000512\n",
      "\n",
      "[101 rows x 3 columns] \n",
      "\n",
      "   S  average case  worst case\n",
      "9  9      0.000177    0.000211\n",
      "     S  average case  worst case\n",
      "13  13      0.000189    0.000193\n"
     ]
    },
    {
     "data": {
      "image/png": "[encoded data removed]",
      "text/plain": [
       "<Figure size 432x288 with 1 Axes>"
      ]
     },
     "metadata": {
      "needs_background": "light"
     },
     "output_type": "display_data"
    }
   ],
   "source": [
    "n = int(input(\"Enter the value of n:\\n\"))\n",
    "average_runtime = iterate_sort_random_time(n)\n",
    "worst_runtime = iterate_sort_worst_time(n)\n",
    "\n",
    "\n",
    "df = pd.DataFrame({\"S\": range(0, n+1), \"average case\": average_runtime, \"worst case\": worst_runtime})\n",
    "print(df,\"\\n\")\n",
    "\n",
    "#to find row with the fastest time\n",
    "print(df.loc[df[\"average case\"] == df[\"average case\"].min()])\n",
    "print(df.loc[df[\"worst case\"] == df[\"worst case\"].min()])\n",
    "\n",
    "#plot average case in blue and worst case in red in increasing S for n\n",
    "plt.plot(df[\"S\"], df[\"average case\"], 'b', df[\"S\"], df[\"worst case\"], 'r')\n",
    "plt.ylabel('t')\n",
    "plt.xlabel('n = '+ str(n))\n",
    "plt.show()\n"
   ]
  },
  {
   "cell_type": "markdown",
   "metadata": {},
   "source": [
    "### Based on keycomp instead of time"
   ]
  },
  {
   "cell_type": "code",
   "execution_count": 39,
   "metadata": {
    "scrolled": false
   },
   "outputs": [
    {
     "name": "stdout",
     "output_type": "stream",
     "text": [
      "Value of n?\n",
      "50\n",
      "n =  50\n",
      "lowest keycomp for average case\n",
      "   S  average case  worst case  \\\n",
      "4  4        221.53         235   \n",
      "\n",
      "                                     decreasing case  \n",
      "4  <function iterate_sort_decreasing_keycomp at 0...  \n",
      "lowest keycomp for worst case\n",
      "   S  average case  worst case  \\\n",
      "6  6        229.24         229   \n",
      "\n",
      "                                     decreasing case  \n",
      "6  <function iterate_sort_decreasing_keycomp at 0...  \n",
      "lowest keycomp for decreasing case\n"
     ]
    },
    {
     "ename": "TypeError",
     "evalue": "'<=' not supported between instances of 'function' and 'function'",
     "output_type": "error",
     "traceback": [
      "\u001b[1;31m---------------------------------------------------------------------------\u001b[0m",
      "\u001b[1;31mTypeError\u001b[0m                                 Traceback (most recent call last)",
      "\u001b[1;32m~\\Anaconda3\\lib\\site-packages\\pandas\\core\\nanops.py\u001b[0m in \u001b[0;36mf\u001b[1;34m(values, axis, skipna, **kwds)\u001b[0m\n\u001b[0;32m    127\u001b[0m                 \u001b[1;32melse\u001b[0m\u001b[1;33m:\u001b[0m\u001b[1;33m\u001b[0m\u001b[1;33m\u001b[0m\u001b[0m\n\u001b[1;32m--> 128\u001b[1;33m                     \u001b[0mresult\u001b[0m \u001b[1;33m=\u001b[0m \u001b[0malt\u001b[0m\u001b[1;33m(\u001b[0m\u001b[0mvalues\u001b[0m\u001b[1;33m,\u001b[0m \u001b[0maxis\u001b[0m\u001b[1;33m=\u001b[0m\u001b[0maxis\u001b[0m\u001b[1;33m,\u001b[0m \u001b[0mskipna\u001b[0m\u001b[1;33m=\u001b[0m\u001b[0mskipna\u001b[0m\u001b[1;33m,\u001b[0m \u001b[1;33m**\u001b[0m\u001b[0mkwds\u001b[0m\u001b[1;33m)\u001b[0m\u001b[1;33m\u001b[0m\u001b[1;33m\u001b[0m\u001b[0m\n\u001b[0m\u001b[0;32m    129\u001b[0m             \u001b[1;32mexcept\u001b[0m \u001b[0mException\u001b[0m\u001b[1;33m:\u001b[0m\u001b[1;33m\u001b[0m\u001b[1;33m\u001b[0m\u001b[0m\n",
      "\u001b[1;32m~\\Anaconda3\\lib\\site-packages\\pandas\\core\\nanops.py\u001b[0m in \u001b[0;36mreduction\u001b[1;34m(values, axis, skipna)\u001b[0m\n\u001b[0;32m    506\u001b[0m         \u001b[1;32melse\u001b[0m\u001b[1;33m:\u001b[0m\u001b[1;33m\u001b[0m\u001b[1;33m\u001b[0m\u001b[0m\n\u001b[1;32m--> 507\u001b[1;33m             \u001b[0mresult\u001b[0m \u001b[1;33m=\u001b[0m \u001b[0mgetattr\u001b[0m\u001b[1;33m(\u001b[0m\u001b[0mvalues\u001b[0m\u001b[1;33m,\u001b[0m \u001b[0mmeth\u001b[0m\u001b[1;33m)\u001b[0m\u001b[1;33m(\u001b[0m\u001b[0maxis\u001b[0m\u001b[1;33m)\u001b[0m\u001b[1;33m\u001b[0m\u001b[1;33m\u001b[0m\u001b[0m\n\u001b[0m\u001b[0;32m    508\u001b[0m \u001b[1;33m\u001b[0m\u001b[0m\n",
      "\u001b[1;32m~\\Anaconda3\\lib\\site-packages\\numpy\\core\\_methods.py\u001b[0m in \u001b[0;36m_amin\u001b[1;34m(a, axis, out, keepdims, initial)\u001b[0m\n\u001b[0;32m     31\u001b[0m           initial=_NoValue):\n\u001b[1;32m---> 32\u001b[1;33m     \u001b[1;32mreturn\u001b[0m \u001b[0mumr_minimum\u001b[0m\u001b[1;33m(\u001b[0m\u001b[0ma\u001b[0m\u001b[1;33m,\u001b[0m \u001b[0maxis\u001b[0m\u001b[1;33m,\u001b[0m \u001b[1;32mNone\u001b[0m\u001b[1;33m,\u001b[0m \u001b[0mout\u001b[0m\u001b[1;33m,\u001b[0m \u001b[0mkeepdims\u001b[0m\u001b[1;33m,\u001b[0m \u001b[0minitial\u001b[0m\u001b[1;33m)\u001b[0m\u001b[1;33m\u001b[0m\u001b[1;33m\u001b[0m\u001b[0m\n\u001b[0m\u001b[0;32m     33\u001b[0m \u001b[1;33m\u001b[0m\u001b[0m\n",
      "\u001b[1;31mTypeError\u001b[0m: '<=' not supported between instances of 'function' and 'function'",
      "\nDuring handling of the above exception, another exception occurred:\n",
      "\u001b[1;31mTypeError\u001b[0m                                 Traceback (most recent call last)",
      "\u001b[1;32m<ipython-input-39-6956ad95f90b>\u001b[0m in \u001b[0;36m<module>\u001b[1;34m\u001b[0m\n\u001b[0;32m     10\u001b[0m \u001b[0mprint\u001b[0m\u001b[1;33m(\u001b[0m\u001b[0mdf\u001b[0m\u001b[1;33m.\u001b[0m\u001b[0mloc\u001b[0m\u001b[1;33m[\u001b[0m\u001b[0mdf\u001b[0m\u001b[1;33m[\u001b[0m\u001b[1;34m\"worst case\"\u001b[0m\u001b[1;33m]\u001b[0m \u001b[1;33m==\u001b[0m \u001b[0mdf\u001b[0m\u001b[1;33m[\u001b[0m\u001b[1;34m\"worst case\"\u001b[0m\u001b[1;33m]\u001b[0m\u001b[1;33m.\u001b[0m\u001b[0mmin\u001b[0m\u001b[1;33m(\u001b[0m\u001b[1;33m)\u001b[0m\u001b[1;33m]\u001b[0m\u001b[1;33m)\u001b[0m\u001b[1;33m\u001b[0m\u001b[1;33m\u001b[0m\u001b[0m\n\u001b[0;32m     11\u001b[0m \u001b[0mprint\u001b[0m\u001b[1;33m(\u001b[0m\u001b[1;34m\"lowest keycomp for decreasing case\"\u001b[0m\u001b[1;33m)\u001b[0m\u001b[1;33m\u001b[0m\u001b[1;33m\u001b[0m\u001b[0m\n\u001b[1;32m---> 12\u001b[1;33m \u001b[0mprint\u001b[0m\u001b[1;33m(\u001b[0m\u001b[0mdf\u001b[0m\u001b[1;33m.\u001b[0m\u001b[0mloc\u001b[0m\u001b[1;33m[\u001b[0m\u001b[0mdf\u001b[0m\u001b[1;33m[\u001b[0m\u001b[1;34m\"decreasing case\"\u001b[0m\u001b[1;33m]\u001b[0m \u001b[1;33m==\u001b[0m \u001b[0mdf\u001b[0m\u001b[1;33m[\u001b[0m\u001b[1;34m\"decreasing case\"\u001b[0m\u001b[1;33m]\u001b[0m\u001b[1;33m.\u001b[0m\u001b[0mmin\u001b[0m\u001b[1;33m(\u001b[0m\u001b[1;33m)\u001b[0m\u001b[1;33m]\u001b[0m\u001b[1;33m)\u001b[0m\u001b[1;33m\u001b[0m\u001b[1;33m\u001b[0m\u001b[0m\n\u001b[0m",
      "\u001b[1;32m~\\Anaconda3\\lib\\site-packages\\pandas\\core\\generic.py\u001b[0m in \u001b[0;36mstat_func\u001b[1;34m(self, axis, skipna, level, numeric_only, **kwargs)\u001b[0m\n\u001b[0;32m   9611\u001b[0m                                       skipna=skipna)\n\u001b[0;32m   9612\u001b[0m         return self._reduce(f, name, axis=axis, skipna=skipna,\n\u001b[1;32m-> 9613\u001b[1;33m                             numeric_only=numeric_only)\n\u001b[0m\u001b[0;32m   9614\u001b[0m \u001b[1;33m\u001b[0m\u001b[0m\n\u001b[0;32m   9615\u001b[0m     \u001b[1;32mreturn\u001b[0m \u001b[0mset_function_name\u001b[0m\u001b[1;33m(\u001b[0m\u001b[0mstat_func\u001b[0m\u001b[1;33m,\u001b[0m \u001b[0mname\u001b[0m\u001b[1;33m,\u001b[0m \u001b[0mcls\u001b[0m\u001b[1;33m)\u001b[0m\u001b[1;33m\u001b[0m\u001b[1;33m\u001b[0m\u001b[0m\n",
      "\u001b[1;32m~\\Anaconda3\\lib\\site-packages\\pandas\\core\\series.py\u001b[0m in \u001b[0;36m_reduce\u001b[1;34m(self, op, name, axis, skipna, numeric_only, filter_type, **kwds)\u001b[0m\n\u001b[0;32m   3219\u001b[0m                                           'numeric_only.'.format(name))\n\u001b[0;32m   3220\u001b[0m             \u001b[1;32mwith\u001b[0m \u001b[0mnp\u001b[0m\u001b[1;33m.\u001b[0m\u001b[0merrstate\u001b[0m\u001b[1;33m(\u001b[0m\u001b[0mall\u001b[0m\u001b[1;33m=\u001b[0m\u001b[1;34m'ignore'\u001b[0m\u001b[1;33m)\u001b[0m\u001b[1;33m:\u001b[0m\u001b[1;33m\u001b[0m\u001b[1;33m\u001b[0m\u001b[0m\n\u001b[1;32m-> 3221\u001b[1;33m                 \u001b[1;32mreturn\u001b[0m \u001b[0mop\u001b[0m\u001b[1;33m(\u001b[0m\u001b[0mdelegate\u001b[0m\u001b[1;33m,\u001b[0m \u001b[0mskipna\u001b[0m\u001b[1;33m=\u001b[0m\u001b[0mskipna\u001b[0m\u001b[1;33m,\u001b[0m \u001b[1;33m**\u001b[0m\u001b[0mkwds\u001b[0m\u001b[1;33m)\u001b[0m\u001b[1;33m\u001b[0m\u001b[1;33m\u001b[0m\u001b[0m\n\u001b[0m\u001b[0;32m   3222\u001b[0m \u001b[1;33m\u001b[0m\u001b[0m\n\u001b[0;32m   3223\u001b[0m         return delegate._reduce(op=op, name=name, axis=axis, skipna=skipna,\n",
      "\u001b[1;32m~\\Anaconda3\\lib\\site-packages\\pandas\\core\\nanops.py\u001b[0m in \u001b[0;36mf\u001b[1;34m(values, axis, skipna, **kwds)\u001b[0m\n\u001b[0;32m    129\u001b[0m             \u001b[1;32mexcept\u001b[0m \u001b[0mException\u001b[0m\u001b[1;33m:\u001b[0m\u001b[1;33m\u001b[0m\u001b[1;33m\u001b[0m\u001b[0m\n\u001b[0;32m    130\u001b[0m                 \u001b[1;32mtry\u001b[0m\u001b[1;33m:\u001b[0m\u001b[1;33m\u001b[0m\u001b[1;33m\u001b[0m\u001b[0m\n\u001b[1;32m--> 131\u001b[1;33m                     \u001b[0mresult\u001b[0m \u001b[1;33m=\u001b[0m \u001b[0malt\u001b[0m\u001b[1;33m(\u001b[0m\u001b[0mvalues\u001b[0m\u001b[1;33m,\u001b[0m \u001b[0maxis\u001b[0m\u001b[1;33m=\u001b[0m\u001b[0maxis\u001b[0m\u001b[1;33m,\u001b[0m \u001b[0mskipna\u001b[0m\u001b[1;33m=\u001b[0m\u001b[0mskipna\u001b[0m\u001b[1;33m,\u001b[0m \u001b[1;33m**\u001b[0m\u001b[0mkwds\u001b[0m\u001b[1;33m)\u001b[0m\u001b[1;33m\u001b[0m\u001b[1;33m\u001b[0m\u001b[0m\n\u001b[0m\u001b[0;32m    132\u001b[0m                 \u001b[1;32mexcept\u001b[0m \u001b[0mValueError\u001b[0m \u001b[1;32mas\u001b[0m \u001b[0me\u001b[0m\u001b[1;33m:\u001b[0m\u001b[1;33m\u001b[0m\u001b[1;33m\u001b[0m\u001b[0m\n\u001b[0;32m    133\u001b[0m                     \u001b[1;31m# we want to transform an object array\u001b[0m\u001b[1;33m\u001b[0m\u001b[1;33m\u001b[0m\u001b[1;33m\u001b[0m\u001b[0m\n",
      "\u001b[1;32m~\\Anaconda3\\lib\\site-packages\\pandas\\core\\nanops.py\u001b[0m in \u001b[0;36mreduction\u001b[1;34m(values, axis, skipna)\u001b[0m\n\u001b[0;32m    505\u001b[0m                 \u001b[0mresult\u001b[0m \u001b[1;33m=\u001b[0m \u001b[0mnp\u001b[0m\u001b[1;33m.\u001b[0m\u001b[0mnan\u001b[0m\u001b[1;33m\u001b[0m\u001b[1;33m\u001b[0m\u001b[0m\n\u001b[0;32m    506\u001b[0m         \u001b[1;32melse\u001b[0m\u001b[1;33m:\u001b[0m\u001b[1;33m\u001b[0m\u001b[1;33m\u001b[0m\u001b[0m\n\u001b[1;32m--> 507\u001b[1;33m             \u001b[0mresult\u001b[0m \u001b[1;33m=\u001b[0m \u001b[0mgetattr\u001b[0m\u001b[1;33m(\u001b[0m\u001b[0mvalues\u001b[0m\u001b[1;33m,\u001b[0m \u001b[0mmeth\u001b[0m\u001b[1;33m)\u001b[0m\u001b[1;33m(\u001b[0m\u001b[0maxis\u001b[0m\u001b[1;33m)\u001b[0m\u001b[1;33m\u001b[0m\u001b[1;33m\u001b[0m\u001b[0m\n\u001b[0m\u001b[0;32m    508\u001b[0m \u001b[1;33m\u001b[0m\u001b[0m\n\u001b[0;32m    509\u001b[0m         \u001b[0mresult\u001b[0m \u001b[1;33m=\u001b[0m \u001b[0m_wrap_results\u001b[0m\u001b[1;33m(\u001b[0m\u001b[0mresult\u001b[0m\u001b[1;33m,\u001b[0m \u001b[0mdtype\u001b[0m\u001b[1;33m)\u001b[0m\u001b[1;33m\u001b[0m\u001b[1;33m\u001b[0m\u001b[0m\n",
      "\u001b[1;32m~\\Anaconda3\\lib\\site-packages\\numpy\\core\\_methods.py\u001b[0m in \u001b[0;36m_amin\u001b[1;34m(a, axis, out, keepdims, initial)\u001b[0m\n\u001b[0;32m     30\u001b[0m def _amin(a, axis=None, out=None, keepdims=False,\n\u001b[0;32m     31\u001b[0m           initial=_NoValue):\n\u001b[1;32m---> 32\u001b[1;33m     \u001b[1;32mreturn\u001b[0m \u001b[0mumr_minimum\u001b[0m\u001b[1;33m(\u001b[0m\u001b[0ma\u001b[0m\u001b[1;33m,\u001b[0m \u001b[0maxis\u001b[0m\u001b[1;33m,\u001b[0m \u001b[1;32mNone\u001b[0m\u001b[1;33m,\u001b[0m \u001b[0mout\u001b[0m\u001b[1;33m,\u001b[0m \u001b[0mkeepdims\u001b[0m\u001b[1;33m,\u001b[0m \u001b[0minitial\u001b[0m\u001b[1;33m)\u001b[0m\u001b[1;33m\u001b[0m\u001b[1;33m\u001b[0m\u001b[0m\n\u001b[0m\u001b[0;32m     33\u001b[0m \u001b[1;33m\u001b[0m\u001b[0m\n\u001b[0;32m     34\u001b[0m def _sum(a, axis=None, dtype=None, out=None, keepdims=False,\n",
      "\u001b[1;31mTypeError\u001b[0m: '<=' not supported between instances of 'function' and 'function'"
     ]
    }
   ],
   "source": [
    "n = int(input(\"Value of n?\\n\"))\n",
    "average_keycomp = iterate_sort_random_keycomp(n)\n",
    "worst_keycomp = iterate_sort_worst_keycomp(n)\n",
    "decreasing_keycomp = iterate_sort_decreasing_keycomp\n",
    "df = pd.DataFrame({\"S\": range(0, n + 1), \"average case\": average_keycomp, \"worst case\": worst_keycomp, \"decreasing case\": decreasing_keycomp})\n",
    "print(\"n = \", n)\n",
    "print(\"lowest keycomp for average case\")\n",
    "print(df.loc[df[\"average case\"] == df[\"average case\"].min()])\n",
    "print(\"lowest keycomp for worst case\")\n",
    "print(df.loc[df[\"worst case\"] == df[\"worst case\"].min()])\n",
    "print(\"lowest keycomp for decreasing case\")\n",
    "print(df.loc[df[\"decreasing case\"] == df[\"decreasing case\"].min()])\n"
   ]
  },
  {
   "cell_type": "code",
   "execution_count": null,
   "metadata": {},
   "outputs": [],
   "source": []
  }
 ],
 "metadata": {
  "kernelspec": {
   "display_name": "Python 3",
   "language": "python",
   "name": "python3"
  },
  "language_info": {
   "codemirror_mode": {
    "name": "ipython",
    "version": 3
   },
   "file_extension": ".py",
   "mimetype": "text/x-python",
   "name": "python",
   "nbconvert_exporter": "python",
   "pygments_lexer": "ipython3",
   "version": "3.7.1"
  }
 },
 "nbformat": 4,
 "nbformat_minor": 2
}
