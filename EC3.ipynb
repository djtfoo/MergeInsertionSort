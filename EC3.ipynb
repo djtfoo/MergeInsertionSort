{
 "cells": [
  {
   "cell_type": "markdown",
   "metadata": {},
   "source": [
    "## CZ2001 Algorithms Example Class 3\n",
    "3B: Integration of Mergesort and Insertion Sort"
   ]
  },
  {
   "cell_type": "code",
   "execution_count": 8,
   "metadata": {},
   "outputs": [],
   "source": [
    "import time\n",
    "import random"
   ]
  },
  {
   "cell_type": "markdown",
   "metadata": {},
   "source": [
    "## MergeSort"
   ]
  },
  {
   "cell_type": "code",
   "execution_count": 13,
   "metadata": {
    "scrolled": true
   },
   "outputs": [],
   "source": [
    "class MergeSort:\n",
    "    key_comp = 0\n",
    "    \n",
    "    def run(self, arr):\n",
    "        start = time.perf_counter()\n",
    "        sorted_arr = self.mergeSort(arr)\n",
    "        end = time.perf_counter()\n",
    "\n",
    "        print(\"\\nYour sorted array is: \" + str(sorted_arr))\n",
    "        print(\"It took you \" + str((end-start)*100) + \" * 10^-2 seconds to complete the sort\")\n",
    "        \n",
    "    def mergeSort(self, arr):\n",
    "        # Base case\n",
    "        if len(arr) <= 1:\n",
    "            return arr\n",
    "\n",
    "        # Divide the array into two halves\n",
    "        mid = len(arr) // 2\n",
    "        left_arr = arr[:mid] # Partition left array, not inclusive of the middle index\n",
    "        right_arr = arr[mid:] # Partition right array, inclusive of the middle index\n",
    "\n",
    "        # Recursively divide the arrays into 2 until the base case\n",
    "        left_arr = self.mergeSort(left_arr)\n",
    "        right_arr = self.mergeSort(right_arr)\n",
    "        return self.merge(left_arr, right_arr)\n",
    "\n",
    "    # Merge function\n",
    "    def merge(self, left_arr, right_arr):\n",
    "        return_arr = []\n",
    "\n",
    "        # While either the left array or right array still has elements remaining\n",
    "        while left_arr and right_arr:\n",
    "            # Compare the first element of the left array to the first element of the right array\n",
    "            if left_arr[0] < right_arr[0]:\n",
    "                return_arr.append(left_arr[0]) # Add the element to the end of the array to be returned\n",
    "                left_arr.pop(0) # Remove the element from the left array\n",
    "            else:\n",
    "                return_arr.append(right_arr[0])\n",
    "                right_arr.pop(0)\n",
    "            self.key_comp += 1\n",
    "\n",
    "        if left_arr:\n",
    "            return_arr.extend(left_arr)\n",
    "        else:\n",
    "            return_arr.extend(right_arr)\n",
    "\n",
    "        return return_arr"
   ]
  },
  {
   "cell_type": "markdown",
   "metadata": {},
   "source": [
    "## Modified MergeSort (extends MergeSort)"
   ]
  },
  {
   "cell_type": "code",
   "execution_count": 20,
   "metadata": {},
   "outputs": [],
   "source": [
    "class ModifiedMergeSort(MergeSort):\n",
    "    #key_comp = 0    # in parent class\n",
    "    \n",
    "    def __init__(self, S):\n",
    "        self.S_val = S\n",
    "        \n",
    "    def set_S(self, S):\n",
    "        self.S_val = S\n",
    "        \n",
    "    def mergeSort(self, arr):\n",
    "        arr_length = len(arr)\n",
    "        \n",
    "        # Base case\n",
    "        if arr_length <= 1:\n",
    "            return arr\n",
    "        \n",
    "        # If the size of the array is smaller than S, carry out insertion sort\n",
    "        elif arr_length <= self.S_val:\n",
    "            return self.insertionSort(arr)\n",
    "        \n",
    "        # Else, carry out merge sort\n",
    "        else:\n",
    "            # Divide the array into two halves\n",
    "            mid = len(arr) // 2\n",
    "            left_arr = arr[:mid] # Partition left array, not inclusive of the middle index\n",
    "            right_arr = arr[mid:] # Partition right array, inclusive of the middle index\n",
    "\n",
    "            # Recursively divide the arrays into 2 until the base case\n",
    "            left_arr = self.mergeSort(left_arr)\n",
    "            right_arr = self.mergeSort(right_arr)\n",
    "            return self.merge(left_arr, right_arr)\n",
    "        \n",
    "    def insertionSort(self, arr):\n",
    "        arr_length = len(arr)\n",
    "        for i in range(1, arr_length):\n",
    "            for j in range(i, 0, -1):\n",
    "                if arr[j] < arr[j-1]:\n",
    "                    temp = arr[j]\n",
    "                    arr[j] = arr[j-1]\n",
    "                    arr[j-1] = temp\n",
    "                self.key_comp += 1\n",
    "        return arr"
   ]
  },
  {
   "cell_type": "markdown",
   "metadata": {},
   "source": [
    "## Helper Methods to Populate Array\n",
    "Ways of populating array:\n",
    "- User input\n",
    "- n number of random integers\n",
    "\n",
    "Not implemented yet:\n",
    "- n number of integers in increasing/decreasing order"
   ]
  },
  {
   "cell_type": "code",
   "execution_count": 27,
   "metadata": {},
   "outputs": [],
   "source": [
    "def populate_array_input(arr):\n",
    "    while True:\n",
    "        val = input(\"Enter a number, type a non-number to quit: \")\n",
    "        try:\n",
    "            int(val)\n",
    "        except ValueError:\n",
    "            break\n",
    "        arr.append(val)\n",
    "        \n",
    "def populate_array_random(arr):\n",
    "    while True:\n",
    "        arr_length = input(\"Enter the number of numbers to sort: \")\n",
    "        if arr_length.isdigit():\n",
    "            break\n",
    "        print(\"Please insert an integer.\")\n",
    "\n",
    "    for i in range(int(arr_length)):\n",
    "        arr.append(random.randint(-100000, 100000))"
   ]
  },
  {
   "cell_type": "markdown",
   "metadata": {},
   "source": [
    "## Run MergeSort"
   ]
  },
  {
   "cell_type": "code",
   "execution_count": 17,
   "metadata": {},
   "outputs": [
    {
     "name": "stdout",
     "output_type": "stream",
     "text": [
      "Enter a number, type a non-number to quit: 1\n",
      "Enter a number, type a non-number to quit: 2\n",
      "Enter a number, type a non-number to quit: 3\n",
      "Enter a number, type a non-number to quit: 4\n",
      "Enter a number, type a non-number to quit: 5\n",
      "Enter a number, type a non-number to quit: a\n",
      "Call 1: ['1', '2'] ['3', '4', '5']\n",
      "Call 2: ['1'] ['2']\n",
      "Call 3: ['3'] ['4', '5']\n",
      "Call 4: ['4'] ['5']\n",
      "\n",
      "Your sorted array is: ['1', '2', '3', '4', '5']\n",
      "It took you 0.17073000000209504 * 10^-2 seconds to complete the sort\n"
     ]
    }
   ],
   "source": [
    "mSort = MergeSort()\n",
    "arr = []\n",
    "populate_array_input(arr)\n",
    "mSort.run(arr)"
   ]
  },
  {
   "cell_type": "code",
   "execution_count": 25,
   "metadata": {},
   "outputs": [
    {
     "name": "stdout",
     "output_type": "stream",
     "text": [
      "Enter the number of numbers to sort: 10\n",
      "\n",
      "Your sorted array is: [-92368, -74405, -59079, -24449, 3939, 31724, 32187, 64103, 78401, 90901]\n",
      "It took you 0.0033599999937905523 * 10^-2 seconds to complete the sort\n"
     ]
    }
   ],
   "source": [
    "mmSort = ModifiedMergeSort(5)\n",
    "arr = []\n",
    "populate_array_random(arr)\n",
    "mmSort.run(arr)"
   ]
  },
  {
   "cell_type": "code",
   "execution_count": 26,
   "metadata": {},
   "outputs": [
    {
     "name": "stdout",
     "output_type": "stream",
     "text": [
      "Enter the number of numbers to sort: 10\n",
      "\n",
      "Your sorted array is: [-99485, -80312, -65261, -17248, 53363, 68671, 72365, 74101, 78807, 81236]\n",
      "It took you 0.004300000000512227 * 10^-2 seconds to complete the sort\n"
     ]
    }
   ],
   "source": [
    "mmSort.set_S(3)\n",
    "arr = []\n",
    "populate_array_random(arr)\n",
    "mmSort.run(arr)"
   ]
  },
  {
   "cell_type": "markdown",
   "metadata": {},
   "source": [
    "## Plot"
   ]
  },
  {
   "cell_type": "code",
   "execution_count": null,
   "metadata": {},
   "outputs": [],
   "source": [
    "import matplotlib as plt\n",
    "import pandas as pd"
   ]
  },
  {
   "cell_type": "code",
   "execution_count": null,
   "metadata": {},
   "outputs": [],
   "source": []
  }
 ],
 "metadata": {
  "kernelspec": {
   "display_name": "Python 3",
   "language": "python",
   "name": "python3"
  },
  "language_info": {
   "codemirror_mode": {
    "name": "ipython",
    "version": 3
   },
   "file_extension": ".py",
   "mimetype": "text/x-python",
   "name": "python",
   "nbconvert_exporter": "python",
   "pygments_lexer": "ipython3",
   "version": "3.7.3"
  }
 },
 "nbformat": 4,
 "nbformat_minor": 2
}
