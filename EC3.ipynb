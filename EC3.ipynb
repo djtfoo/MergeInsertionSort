{
 "cells": [
  {
   "cell_type": "markdown",
   "metadata": {},
   "source": [
    "## CZ2001 Algorithms Example Class 3\n",
    "3B: Integration of Mergesort and Insertion Sort"
   ]
  },
  {
   "cell_type": "code",
   "execution_count": 3,
   "metadata": {},
   "outputs": [],
   "source": [
    "import time\n",
    "import random"
   ]
  },
  {
   "cell_type": "markdown",
   "metadata": {},
   "source": [
    "## MergeSort"
   ]
  },
  {
   "cell_type": "code",
   "execution_count": 4,
   "metadata": {
    "scrolled": true
   },
   "outputs": [],
   "source": [
    "class MergeSort:\n",
    "    func_calls = 0\n",
    "    key_comp = 0\n",
    "        \n",
    "    def mergeSort(self, arr):\n",
    "        # Base case\n",
    "        if len(arr) <= 1:\n",
    "            return arr\n",
    "\n",
    "        # Divide the array into two halves\n",
    "        mid = len(arr) // 2\n",
    "        left_arr = arr[:mid] # Partition left array, not inclusive of the middle index\n",
    "        right_arr = arr[mid:] # Partition right array, inclusive of the middle index\n",
    "\n",
    "        self.func_calls += 1\n",
    "        print(\"Call \" + str(self.func_calls) + \": \" + str(left_arr) + \" \" + str(right_arr))\n",
    "\n",
    "        # Recursively divide the arrays into 2 until the base case\n",
    "        left_arr = self.mergeSort(left_arr)\n",
    "        right_arr = self.mergeSort(right_arr)\n",
    "        return self.merge(left_arr, right_arr)\n",
    "\n",
    "    # Merge function\n",
    "    def merge(self, left_arr, right_arr):\n",
    "        return_arr = []\n",
    "\n",
    "        # While either the left array or right array still has elements remaining\n",
    "        while left_arr and right_arr:\n",
    "            # Compare the first element of the left array to the first element of the right array\n",
    "            if left_arr[0] < right_arr[0]:\n",
    "                return_arr.append(left_arr[0]) # Add the element to the end of the array to be returned\n",
    "                left_arr.pop(0) # Remove the element from the left array\n",
    "            else:\n",
    "                return_arr.append(right_arr[0])\n",
    "                right_arr.pop(0)\n",
    "\n",
    "        if left_arr:\n",
    "            return_arr.extend(left_arr)\n",
    "        else:\n",
    "            return_arr.extend(right_arr)\n",
    "\n",
    "        return return_arr"
   ]
  },
  {
   "cell_type": "markdown",
   "metadata": {},
   "source": [
    "## Modified MergeSort (extends MergeSort)"
   ]
  },
  {
   "cell_type": "code",
   "execution_count": 6,
   "metadata": {},
   "outputs": [],
   "source": [
    "class ModifiedMergeSort(MergeSort):\n",
    "    #func_calls = 0  # in parent class\n",
    "    #key_comp = 0    # in parent class\n",
    "    \n",
    "    def __init__(self, S):\n",
    "        self.S_val = S\n",
    "        \n",
    "    def set_S(S):\n",
    "        self.S_val = S\n",
    "        \n",
    "    def mergeSort(self, arr):\n",
    "        arr_length = len(arr)\n",
    "        \n",
    "        # Base case\n",
    "        if arr_length <= 1:\n",
    "            return arr\n",
    "        \n",
    "        # If the size of the array is smaller than S, carry out insertion sort\n",
    "        elif arr_length <= self.S_val:\n",
    "            return self.insertionSort(arr)\n",
    "        \n",
    "        # Else, carry out merge sort\n",
    "        else:\n",
    "            # Divide the array into two halves\n",
    "            mid = len(arr) // 2\n",
    "            left_arr = arr[:mid] # Partition left array, not inclusive of the middle index\n",
    "            right_arr = arr[mid:] # Partition right array, inclusive of the middle index\n",
    "\n",
    "            self.func_calls += 1\n",
    "#             print(\"Call \" + str(self.func_calls) + \": \" + str(left_arr) + \" \" + str(right_arr))\n",
    "\n",
    "            # Recursively divide the arrays into 2 until the base case\n",
    "            left_arr = self.mergeSort(left_arr)\n",
    "            right_arr = self.mergeSort(right_arr)\n",
    "            return self.merge(left_arr, right_arr)\n",
    "        \n",
    "    def insertionSort(self, arr):\n",
    "        arr_length = len(arr)\n",
    "        for i in range(1, arr_length):\n",
    "            for j in range(i, 0, -1):\n",
    "                if arr[j] < arr[j-1]:\n",
    "                    temp = arr[j]\n",
    "                    arr[j] = arr[j-1]\n",
    "                    arr[j-1] = temp\n",
    "        return arr"
   ]
  },
  {
   "cell_type": "markdown",
   "metadata": {},
   "source": [
    "## Helper Methods"
   ]
  },
  {
   "cell_type": "code",
   "execution_count": 8,
   "metadata": {},
   "outputs": [],
   "source": [
    "def start(arr, sorter):\n",
    "    while True:\n",
    "        val = input(\"Enter a number, type a non-number to quit: \")\n",
    "        try:\n",
    "            int(val)\n",
    "        except ValueError:\n",
    "            break\n",
    "        arr.append(val)\n",
    "\n",
    "    print(\"===============\")\n",
    "    start = time.perf_counter()\n",
    "    sorted_arr = sorter.mergeSort(arr)\n",
    "    end = time.perf_counter()\n",
    "\n",
    "    print(\"\\nYour sorted array is: \" + str(sorted_arr))\n",
    "    print(\"It took you \" + str((end-start)*100) + \" * 10^-2 seconds to complete the sort\")\n",
    "\n",
    "def startRandom(arr, sorter):\n",
    "    while True:\n",
    "        arr_length = input(\"Enter the number of numbers to sort: \")\n",
    "        if arr_length.isdigit():\n",
    "            break\n",
    "        print(\"Please insert an integer.\")\n",
    "\n",
    "    for i in range(int(arr_length)):\n",
    "        arr.append(random.randint(-100000, 100000))\n",
    "\n",
    "    start = time.perf_counter()\n",
    "    sorted_arr = sorter.mergeSort(arr)\n",
    "    end = time.perf_counter()\n",
    "\n",
    "    print(\"Your sorted array is: \" + str(sorted_arr))\n",
    "    print(\"\\nIt took you \" + str((end-start)*100) + \" * 10^-2 seconds to complete the sort\")"
   ]
  },
  {
   "cell_type": "markdown",
   "metadata": {},
   "source": [
    "## Run MergeSort"
   ]
  },
  {
   "cell_type": "code",
   "execution_count": null,
   "metadata": {},
   "outputs": [],
   "source": [
    "mSort = MergeSort()\n",
    "arr = []\n",
    "startRandom(arr, mSort)"
   ]
  },
  {
   "cell_type": "code",
   "execution_count": 9,
   "metadata": {},
   "outputs": [
    {
     "name": "stdout",
     "output_type": "stream",
     "text": [
      "Enter the number of numbers to sort: 5\n",
      "Your sorted array is: [-33478, -14486, -10830, 63067, 97833]\n",
      "\n",
      "It took you 0.004170000002545748 * 10^-2 seconds to complete the sort\n"
     ]
    }
   ],
   "source": [
    "mmSort = ModifiedMergeSort(5)\n",
    "arr = []\n",
    "startRandom(arr, mmSort)"
   ]
  },
  {
   "cell_type": "markdown",
   "metadata": {},
   "source": [
    "## Plot"
   ]
  },
  {
   "cell_type": "code",
   "execution_count": 1,
   "metadata": {},
   "outputs": [],
   "source": [
    "import matplotlib as plt\n",
    "import pandas as pd"
   ]
  },
  {
   "cell_type": "code",
   "execution_count": null,
   "metadata": {},
   "outputs": [],
   "source": []
  }
 ],
 "metadata": {
  "kernelspec": {
   "display_name": "Python 3",
   "language": "python",
   "name": "python3"
  },
  "language_info": {
   "codemirror_mode": {
    "name": "ipython",
    "version": 3
   },
   "file_extension": ".py",
   "mimetype": "text/x-python",
   "name": "python",
   "nbconvert_exporter": "python",
   "pygments_lexer": "ipython3",
   "version": "3.7.3"
  }
 },
 "nbformat": 4,
 "nbformat_minor": 2
}
